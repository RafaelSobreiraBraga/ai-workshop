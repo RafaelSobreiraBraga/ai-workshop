{
 "cells": [
  {
   "cell_type": "markdown",
   "metadata": {},
   "source": [
    "# Amazon Machine Learning Demonstration\n",
    "\n",
    "\n",
    "https://aws.amazon.com/pt/machine-learning/\n",
    "Amazon Machine Learning is a service that makes it easy for developers of all skill levels to use machine learning technology. Amazon Machine Learning provides visualization tools and wizards that guide you through the process of creating machine learning (ML) models without having to learn complex ML algorithms and technology.\n",
    "With Amazon Machine Learning you can train three different types of models, using the following algorithms:\n",
    " - Binary Logistic Regression\n",
    " - Multinomial Logistic Regression\n",
    " - Linear Regression\n",
    " \n",
    "We will use Multinomial Logistic Regression to create a model for predicting the category of a product, given its short descriptiion.\n",
    "\n",
    "Python Boto3 reference:\n",
    "http://boto3.readthedocs.io/en/latest/reference/services/machinelearning.html"
   ]
  },
  {
   "cell_type": "markdown",
   "metadata": {},
   "source": [
    "## Goal: to create a model to predict a given product category\n",
    "\n",
    "Model:\n",
    " - Input: product short description\n",
    " - Output: category\n",
    " - *predict_categoria(product_name) -> category*\n",
    " "
   ]
  },
  {
   "cell_type": "code",
   "execution_count": 59,
   "metadata": {
    "collapsed": true
   },
   "outputs": [],
   "source": [
    "%matplotlib inline\n",
    "\n",
    "import boto3\n",
    "import numpy as np\n",
    "import pandas as pd\n",
    "import sagemaker\n",
    "import IPython.display as disp\n",
    "import json\n",
    "\n",
    "from time import gmtime, strftime\n",
    "from sklearn.feature_extraction.text import CountVectorizer, TfidfVectorizer\n",
    "from sklearn import preprocessing\n",
    "from IPython.display import Markdown\n",
    "from notebook import notebookapp"
   ]
  },
  {
   "cell_type": "code",
   "execution_count": 2,
   "metadata": {
    "collapsed": true
   },
   "outputs": [],
   "source": [
    "# Get the current Sagemaker session\n",
    "sagemaker_session = sagemaker.Session()\n",
    "\n",
    "role = sagemaker.get_execution_role()"
   ]
  },
  {
   "cell_type": "code",
   "execution_count": 16,
   "metadata": {},
   "outputs": [],
   "source": [
    "s3_bucket = sagemaker_session.default_bucket()\n",
    "client = boto3.client('machinelearning')\n",
    "s3_client = boto3.client('s3')\n",
    "s3 = boto3.client('s3')\n",
    "base_dir='/tmp/aml'"
   ]
  },
  {
   "cell_type": "code",
   "execution_count": 39,
   "metadata": {},
   "outputs": [],
   "source": [
    "bucket_arn = \"arn:aws:s3:::%s/*\" % s3_bucket\n",
    "policy_statement = {\n",
    "    \"Sid\": \"AddPerm\",\n",
    "    \"Effect\": \"Allow\",\n",
    "    \"Principal\": \"*\",\n",
    "    \"Action\": \"s3:GetObject\",\n",
    "    \"Resource\": bucket_arn\n",
    "}"
   ]
  },
  {
   "cell_type": "code",
   "execution_count": 46,
   "metadata": {},
   "outputs": [],
   "source": [
    "current_policy = None\n",
    "try:\n",
    "    current_policy = json.loads(s3_client.get_bucket_policy(Bucket=s3_bucket)['Policy'])\n",
    "    policy_found = False\n",
    "    for st in current_policy['Statement']:\n",
    "        if st[\"Action\"] == \"s3:GetObject\" and st[\"Resource\"] == bucket_arn:\n",
    "            policy_found = True\n",
    "            break\n",
    "\n",
    "    if not policy_found:\n",
    "        current_policy['Statement'].append( bucket_statement )\n",
    "except Exception as e:\n",
    "    print(\"There is no current policy. Adding one...\")\n",
    "    s3_client.put_bucket_policy(\n",
    "        Bucket=s3_bucket,\n",
    "        Policy=json.dumps(\n",
    "            {\n",
    "                \"Version\": \"2012-10-17\",\n",
    "                \"Statement\": [policy_statement]\n",
    "            }\n",
    "        )\n",
    "    )"
   ]
  },
  {
   "cell_type": "markdown",
   "metadata": {},
   "source": [
    "# Data Scientist moment\n",
    "## Preparing the dataset"
   ]
  },
  {
   "cell_type": "code",
   "execution_count": 47,
   "metadata": {
    "collapsed": true
   },
   "outputs": [],
   "source": [
    "!mkdir -p $base_dir\n",
    "!curl -s https://workshopml.spock.cloud/datasets/products/aml_data.tar.gz | tar -xz -C $base_dir"
   ]
  },
  {
   "cell_type": "code",
   "execution_count": 48,
   "metadata": {},
   "outputs": [
    {
     "name": "stdout",
     "output_type": "stream",
     "text": [
      "957\n"
     ]
    },
    {
     "data": {
      "text/html": [
       "<div>\n",
       "<style>\n",
       "    .dataframe thead tr:only-child th {\n",
       "        text-align: right;\n",
       "    }\n",
       "\n",
       "    .dataframe thead th {\n",
       "        text-align: left;\n",
       "    }\n",
       "\n",
       "    .dataframe tbody tr th {\n",
       "        vertical-align: top;\n",
       "    }\n",
       "</style>\n",
       "<table border=\"1\" class=\"dataframe\">\n",
       "  <thead>\n",
       "    <tr style=\"text-align: right;\">\n",
       "      <th></th>\n",
       "      <th>product_name</th>\n",
       "      <th>main_category</th>\n",
       "      <th>sub_category</th>\n",
       "    </tr>\n",
       "  </thead>\n",
       "  <tbody>\n",
       "    <tr>\n",
       "      <th>517</th>\n",
       "      <td>Blusa Ecko Ad.Basic Color All City Vandals Cinza</td>\n",
       "      <td>vestuarios</td>\n",
       "      <td>blusa</td>\n",
       "    </tr>\n",
       "    <tr>\n",
       "      <th>163</th>\n",
       "      <td>Touca Black Flag Cinza</td>\n",
       "      <td>acessorios</td>\n",
       "      <td>touca</td>\n",
       "    </tr>\n",
       "    <tr>\n",
       "      <th>14</th>\n",
       "      <td>Camiseta Advance Gangster Preta</td>\n",
       "      <td>vestuarios</td>\n",
       "      <td>camiseta</td>\n",
       "    </tr>\n",
       "    <tr>\n",
       "      <th>826</th>\n",
       "      <td>Canguru Cotton Line Vermelho KaBaby</td>\n",
       "      <td>acessorios</td>\n",
       "      <td>canguru</td>\n",
       "    </tr>\n",
       "    <tr>\n",
       "      <th>692</th>\n",
       "      <td>Saia GarotaFit Tricolor Rosa</td>\n",
       "      <td>vestuarios</td>\n",
       "      <td>saia</td>\n",
       "    </tr>\n",
       "  </tbody>\n",
       "</table>\n",
       "</div>"
      ],
      "text/plain": [
       "                                         product_name main_category  \\\n",
       "517  Blusa Ecko Ad.Basic Color All City Vandals Cinza    vestuarios   \n",
       "163                            Touca Black Flag Cinza    acessorios   \n",
       "14                    Camiseta Advance Gangster Preta    vestuarios   \n",
       "826               Canguru Cotton Line Vermelho KaBaby    acessorios   \n",
       "692                      Saia GarotaFit Tricolor Rosa    vestuarios   \n",
       "\n",
       "    sub_category  \n",
       "517        blusa  \n",
       "163        touca  \n",
       "14      camiseta  \n",
       "826      canguru  \n",
       "692         saia  "
      ]
     },
     "execution_count": 48,
     "metadata": {},
     "output_type": "execute_result"
    }
   ],
   "source": [
    "data = pd.read_csv(base_dir + '/sample.csv', sep=',', encoding='utf-8')\n",
    "print( len(data) )\n",
    "data.iloc[[517, 163, 14, 826, 692]]"
   ]
  },
  {
   "cell_type": "markdown",
   "metadata": {},
   "source": [
    "### So, we need to remove accents, transform everything to lower case and remove stopwords"
   ]
  },
  {
   "cell_type": "code",
   "execution_count": 49,
   "metadata": {
    "collapsed": true
   },
   "outputs": [],
   "source": [
    "# tranlating table for removing accents\n",
    "accents = \"\".maketrans(\"áàãâéêíóôõúüçÁÀÃÂÉÊÍÓÔÕÚÜÇ\", \"aaaaeeiooouucAAAAEEIOOOUUC\")\n",
    "\n",
    "# loading stopwords without accents\n",
    "file = open(\"stopwords.txt\", \"r\")\n",
    "stopwords = list(map(lambda x:x.strip().translate(accents),file.readlines()))\n",
    "file.close()"
   ]
  },
  {
   "cell_type": "code",
   "execution_count": 50,
   "metadata": {
    "collapsed": true
   },
   "outputs": [],
   "source": [
    "# this tokenizer will tokenize the text, remove stop words and compute bigrams (ngram(2))\n",
    "word_vectorizer = TfidfVectorizer(ngram_range=(1,2), analyzer='word', stop_words=stopwords, token_pattern='[a-zA-Z]+')\n",
    "tokenizer = word_vectorizer.build_tokenizer()\n",
    "\n",
    "def remove_stop_words(text):\n",
    "    return \" \".join( list(filter( lambda x: x not in stopwords, tokenizer(text) )) )"
   ]
  },
  {
   "cell_type": "code",
   "execution_count": 51,
   "metadata": {
    "collapsed": true
   },
   "outputs": [],
   "source": [
    "data['product_name_tokens'] = list(map(lambda x: remove_stop_words( x.lower().translate(accents) ), data['product_name']))\n",
    "data['main_category_tokens'] = list(map(lambda x: remove_stop_words( x.lower().translate(accents) ), data['main_category']))\n",
    "data['subcategory_tokens'] = list(map(lambda x: remove_stop_words( x.lower().translate(accents) ), data['sub_category']))"
   ]
  },
  {
   "cell_type": "code",
   "execution_count": 52,
   "metadata": {},
   "outputs": [
    {
     "data": {
      "text/html": [
       "<div>\n",
       "<style>\n",
       "    .dataframe thead tr:only-child th {\n",
       "        text-align: right;\n",
       "    }\n",
       "\n",
       "    .dataframe thead th {\n",
       "        text-align: left;\n",
       "    }\n",
       "\n",
       "    .dataframe tbody tr th {\n",
       "        vertical-align: top;\n",
       "    }\n",
       "</style>\n",
       "<table border=\"1\" class=\"dataframe\">\n",
       "  <thead>\n",
       "    <tr style=\"text-align: right;\">\n",
       "      <th></th>\n",
       "      <th>product_name</th>\n",
       "      <th>main_category</th>\n",
       "      <th>sub_category</th>\n",
       "      <th>product_name_tokens</th>\n",
       "      <th>main_category_tokens</th>\n",
       "      <th>subcategory_tokens</th>\n",
       "    </tr>\n",
       "  </thead>\n",
       "  <tbody>\n",
       "    <tr>\n",
       "      <th>26</th>\n",
       "      <td>Kit de Mergulho Premium Ahead Sports Winmax Ve...</td>\n",
       "      <td>acessorios</td>\n",
       "      <td>kit</td>\n",
       "      <td>kit mergulho premium ahead sports winmax vermelho</td>\n",
       "      <td>acessorios</td>\n",
       "      <td>kit</td>\n",
       "    </tr>\n",
       "    <tr>\n",
       "      <th>163</th>\n",
       "      <td>Touca Black Flag Cinza</td>\n",
       "      <td>acessorios</td>\n",
       "      <td>touca</td>\n",
       "      <td>touca black flag cinza</td>\n",
       "      <td>acessorios</td>\n",
       "      <td>touca</td>\n",
       "    </tr>\n",
       "    <tr>\n",
       "      <th>14</th>\n",
       "      <td>Camiseta Advance Gangster Preta</td>\n",
       "      <td>vestuarios</td>\n",
       "      <td>camiseta</td>\n",
       "      <td>camiseta advance gangster preta</td>\n",
       "      <td>vestuarios</td>\n",
       "      <td>camiseta</td>\n",
       "    </tr>\n",
       "    <tr>\n",
       "      <th>826</th>\n",
       "      <td>Canguru Cotton Line Vermelho KaBaby</td>\n",
       "      <td>acessorios</td>\n",
       "      <td>canguru</td>\n",
       "      <td>canguru cotton line vermelho kababy</td>\n",
       "      <td>acessorios</td>\n",
       "      <td>canguru</td>\n",
       "    </tr>\n",
       "    <tr>\n",
       "      <th>692</th>\n",
       "      <td>Saia GarotaFit Tricolor Rosa</td>\n",
       "      <td>vestuarios</td>\n",
       "      <td>saia</td>\n",
       "      <td>saia garotafit tricolor rosa</td>\n",
       "      <td>vestuarios</td>\n",
       "      <td>saia</td>\n",
       "    </tr>\n",
       "  </tbody>\n",
       "</table>\n",
       "</div>"
      ],
      "text/plain": [
       "                                          product_name main_category  \\\n",
       "26   Kit de Mergulho Premium Ahead Sports Winmax Ve...    acessorios   \n",
       "163                             Touca Black Flag Cinza    acessorios   \n",
       "14                     Camiseta Advance Gangster Preta    vestuarios   \n",
       "826                Canguru Cotton Line Vermelho KaBaby    acessorios   \n",
       "692                       Saia GarotaFit Tricolor Rosa    vestuarios   \n",
       "\n",
       "    sub_category                                product_name_tokens  \\\n",
       "26           kit  kit mergulho premium ahead sports winmax vermelho   \n",
       "163        touca                             touca black flag cinza   \n",
       "14      camiseta                    camiseta advance gangster preta   \n",
       "826      canguru                canguru cotton line vermelho kababy   \n",
       "692         saia                       saia garotafit tricolor rosa   \n",
       "\n",
       "    main_category_tokens subcategory_tokens  \n",
       "26            acessorios                kit  \n",
       "163           acessorios              touca  \n",
       "14            vestuarios           camiseta  \n",
       "826           acessorios            canguru  \n",
       "692           vestuarios               saia  "
      ]
     },
     "execution_count": 52,
     "metadata": {},
     "output_type": "execute_result"
    }
   ],
   "source": [
    "data.iloc[[26, 163, 14, 826, 692]]"
   ]
  },
  {
   "cell_type": "markdown",
   "metadata": {},
   "source": [
    "## Let's remove the unecessary columns"
   ]
  },
  {
   "cell_type": "code",
   "execution_count": 53,
   "metadata": {},
   "outputs": [
    {
     "data": {
      "text/html": [
       "<div>\n",
       "<style>\n",
       "    .dataframe thead tr:only-child th {\n",
       "        text-align: right;\n",
       "    }\n",
       "\n",
       "    .dataframe thead th {\n",
       "        text-align: left;\n",
       "    }\n",
       "\n",
       "    .dataframe tbody tr th {\n",
       "        vertical-align: top;\n",
       "    }\n",
       "</style>\n",
       "<table border=\"1\" class=\"dataframe\">\n",
       "  <thead>\n",
       "    <tr style=\"text-align: right;\">\n",
       "      <th></th>\n",
       "      <th>product_name</th>\n",
       "      <th>category</th>\n",
       "      <th>sub_category</th>\n",
       "    </tr>\n",
       "  </thead>\n",
       "  <tbody>\n",
       "    <tr>\n",
       "      <th>0</th>\n",
       "      <td>saa praia resort wear estampada</td>\n",
       "      <td>vestuarios</td>\n",
       "      <td>saida praia</td>\n",
       "    </tr>\n",
       "    <tr>\n",
       "      <th>1</th>\n",
       "      <td>vestido resort wear estampado preto</td>\n",
       "      <td>vestuarios</td>\n",
       "      <td>vestido</td>\n",
       "    </tr>\n",
       "    <tr>\n",
       "      <th>2</th>\n",
       "      <td>brinquedo artesanal casa rvore multicolorido</td>\n",
       "      <td>acessorios</td>\n",
       "      <td>brinquedo</td>\n",
       "    </tr>\n",
       "    <tr>\n",
       "      <th>3</th>\n",
       "      <td>camiseta life the poet musgo</td>\n",
       "      <td>vestuarios</td>\n",
       "      <td>camiseta</td>\n",
       "    </tr>\n",
       "    <tr>\n",
       "      <th>4</th>\n",
       "      <td>camiseta life boomer vermelha</td>\n",
       "      <td>vestuarios</td>\n",
       "      <td>camiseta</td>\n",
       "    </tr>\n",
       "  </tbody>\n",
       "</table>\n",
       "</div>"
      ],
      "text/plain": [
       "                                   product_name    category sub_category\n",
       "0               saa praia resort wear estampada  vestuarios  saida praia\n",
       "1           vestido resort wear estampado preto  vestuarios      vestido\n",
       "2  brinquedo artesanal casa rvore multicolorido  acessorios    brinquedo\n",
       "3                  camiseta life the poet musgo  vestuarios     camiseta\n",
       "4                 camiseta life boomer vermelha  vestuarios     camiseta"
      ]
     },
     "execution_count": 53,
     "metadata": {},
     "output_type": "execute_result"
    }
   ],
   "source": [
    "data_final = data[ [ 'product_name_tokens', 'main_category_tokens', 'subcategory_tokens' ]]\n",
    "data_final = data_final.rename(columns={\n",
    "    \"product_name_tokens\": \"product_name\", \n",
    "    \"main_category_tokens\": \"category\",\n",
    "    \"subcategory_tokens\": \"sub_category\", \n",
    "})\n",
    "data_final.head()"
   ]
  },
  {
   "cell_type": "markdown",
   "metadata": {},
   "source": [
    "# Ok. We finished our 'sample' dataset preparation.\n",
    "## Now, lets continue with the dataset that was already cleaned.\n",
    "## In real life, you should apply all these transformations to your final dataset."
   ]
  },
  {
   "cell_type": "code",
   "execution_count": 54,
   "metadata": {},
   "outputs": [
    {
     "data": {
      "image/png": "[encoded data removed]",
      "text/plain": [
       "<IPython.core.display.Image object>"
      ]
     },
     "execution_count": 54,
     "metadata": {},
     "output_type": "execute_result"
    }
   ],
   "source": [
    "disp.Image(base_dir + '/workflow_processo.png')"
   ]
  },
  {
   "cell_type": "markdown",
   "metadata": {},
   "source": [
    "### Now, lets execute the steps above, using Amazon Machine Learning."
   ]
  },
  {
   "cell_type": "code",
   "execution_count": 55,
   "metadata": {
    "collapsed": true
   },
   "outputs": [],
   "source": [
    "# First, lets upload our dataset to S3\n",
    "s3.upload_file( base_dir + '/dataset.csv', s3_bucket, 'workshop/AML/dataset.csv' )"
   ]
  },
  {
   "cell_type": "code",
   "execution_count": 56,
   "metadata": {},
   "outputs": [
    {
     "data": {
      "text/html": [
       "<div>\n",
       "<style>\n",
       "    .dataframe thead tr:only-child th {\n",
       "        text-align: right;\n",
       "    }\n",
       "\n",
       "    .dataframe thead th {\n",
       "        text-align: left;\n",
       "    }\n",
       "\n",
       "    .dataframe tbody tr th {\n",
       "        vertical-align: top;\n",
       "    }\n",
       "</style>\n",
       "<table border=\"1\" class=\"dataframe\">\n",
       "  <thead>\n",
       "    <tr style=\"text-align: right;\">\n",
       "      <th></th>\n",
       "      <th>product_name</th>\n",
       "      <th>category</th>\n",
       "      <th>sub_category</th>\n",
       "    </tr>\n",
       "  </thead>\n",
       "  <tbody>\n",
       "    <tr>\n",
       "      <th>0</th>\n",
       "      <td>brinco joia casa flor pendurada oval dourado</td>\n",
       "      <td>acessorios</td>\n",
       "      <td>brinco</td>\n",
       "    </tr>\n",
       "    <tr>\n",
       "      <th>1</th>\n",
       "      <td>chapeu chapelaria vintage panama natural</td>\n",
       "      <td>acessorios</td>\n",
       "      <td>chapeu</td>\n",
       "    </tr>\n",
       "    <tr>\n",
       "      <th>2</th>\n",
       "      <td>sapatilha fiveblu lisa preta</td>\n",
       "      <td>calcados</td>\n",
       "      <td>sapatilha</td>\n",
       "    </tr>\n",
       "    <tr>\n",
       "      <th>3</th>\n",
       "      <td>tenis converse ct bright hi azul</td>\n",
       "      <td>calcados</td>\n",
       "      <td>tenis</td>\n",
       "    </tr>\n",
       "    <tr>\n",
       "      <th>4</th>\n",
       "      <td>camiseta emitresde drone rosa</td>\n",
       "      <td>vestuarios</td>\n",
       "      <td>camiseta</td>\n",
       "    </tr>\n",
       "  </tbody>\n",
       "</table>\n",
       "</div>"
      ],
      "text/plain": [
       "                                   product_name    category sub_category\n",
       "0  brinco joia casa flor pendurada oval dourado  acessorios       brinco\n",
       "1      chapeu chapelaria vintage panama natural  acessorios       chapeu\n",
       "2                  sapatilha fiveblu lisa preta    calcados    sapatilha\n",
       "3              tenis converse ct bright hi azul    calcados        tenis\n",
       "4                 camiseta emitresde drone rosa  vestuarios     camiseta"
      ]
     },
     "execution_count": 56,
     "metadata": {},
     "output_type": "execute_result"
    }
   ],
   "source": [
    "# just take a look on that, before continue\n",
    "pd.read_csv(base_dir + '/dataset.csv', sep=',', encoding='utf-8').head()"
   ]
  },
  {
   "cell_type": "markdown",
   "metadata": {},
   "source": [
    "## Now, lets create the DataSources\n",
    "### Before that, we need to split it into 70% training and 30% test"
   ]
  },
  {
   "cell_type": "code",
   "execution_count": 57,
   "metadata": {},
   "outputs": [
    {
     "name": "stdout",
     "output_type": "stream",
     "text": [
      "Training: {\n",
      "  \"splitting\": {\n",
      "    \"percentBegin\": 0,\n",
      "    \"percentEnd\": 70,\n",
      "    \"strategy\": \"random\"\n",
      "  }\n",
      "}\n",
      "\n",
      "Test: {\n",
      "  \"splitting\": {\n",
      "    \"percentBegin\": 70,\n",
      "    \"percentEnd\": 100,\n",
      "    \"strategy\": \"random\"\n",
      "  }\n",
      "}\n",
      "\n"
     ]
    }
   ],
   "source": [
    "strategy_train = open( 'split_strategy_training.json', 'r').read()\n",
    "strategy_test = open( 'split_strategy_test.json', 'r').read()\n",
    "print( \"Training: {}\\nTest: {}\".format( strategy_train, strategy_test ) )"
   ]
  },
  {
   "cell_type": "markdown",
   "metadata": {},
   "source": [
    "### How AML knows the file format (CSV)? By using the schema bellow..."
   ]
  },
  {
   "cell_type": "code",
   "execution_count": 58,
   "metadata": {},
   "outputs": [
    {
     "name": "stdout",
     "output_type": "stream",
     "text": [
      "Formato dos dados do dataset: {\n",
      "\n",
      "    \"version\": \"1.0\",\n",
      "    \"rowId\": null,\n",
      "    \"rowWeight\": null,\n",
      "    \"targetAttributeName\": \"category\",\n",
      "    \"dataFormat\": \"CSV\",\n",
      "    \"dataFileContainsHeader\": true,\n",
      "    \"attributes\": [\n",
      "        {\n",
      "            \"attributeName\": \"product_name\",\n",
      "            \"attributeType\": \"TEXT\"\n",
      "        },\n",
      "        {\n",
      "            \"attributeName\": \"category\",\n",
      "            \"attributeType\": \"CATEGORICAL\"\n",
      "        },\n",
      "        {\n",
      "            \"attributeName\": \"sub_category\",\n",
      "            \"attributeType\": \"CATEGORICAL\"\n",
      "        }\n",
      "    ],\n",
      "    \"excludedAttributeNames\": [ ]\n",
      "\n",
      "}\n",
      "\n",
      "\n"
     ]
    }
   ],
   "source": [
    "categorias_schema = open('category_schema.json', 'r').read()\n",
    "print( \"Formato dos dados do dataset: {}\\n\".format( categorias_schema) )"
   ]
  },
  {
   "cell_type": "markdown",
   "metadata": {},
   "source": [
    "### Creating the DataSources (train and test) for the Category Model"
   ]
  },
  {
   "cell_type": "code",
   "execution_count": 106,
   "metadata": {},
   "outputs": [
    {
     "name": "stdout",
     "output_type": "stream",
     "text": [
      "CategoriasTrain_20180327_231037 CategoriasTest_20180327_231037\n",
      "Datasources created successfully!\n"
     ]
    }
   ],
   "source": [
    "train_datasource_name = 'CategoriasTrain' + '_' + strftime(\"%Y%m%d_%H%M%S\", gmtime())\n",
    "test_datasource_name = 'CategoriasTest' + '_' + strftime(\"%Y%m%d_%H%M%S\", gmtime())\n",
    "\n",
    "print(train_datasource_name, test_datasource_name)\n",
    "\n",
    "resp = client.create_data_source_from_s3(\n",
    "    DataSourceId=train_datasource_name,\n",
    "    DataSourceName=train_datasource_name,\n",
    "    DataSpec={\n",
    "        'DataLocationS3': 's3://%s/workshop/AML/dataset.csv' % s3_bucket,\n",
    "        'DataSchema': categorias_schema,\n",
    "        'DataRearrangement': strategy_train\n",
    "    },\n",
    "    ComputeStatistics=True\n",
    ")\n",
    "\n",
    "resp = client.create_data_source_from_s3(\n",
    "    DataSourceId=test_datasource_name,\n",
    "    DataSourceName=test_datasource_name,\n",
    "    DataSpec={\n",
    "        'DataLocationS3': 's3://%s/workshop/AML/dataset.csv' % s3_bucket,\n",
    "        'DataSchema': categorias_schema,\n",
    "        'DataRearrangement': strategy_test\n",
    "    },\n",
    "    ComputeStatistics=True\n",
    ")\n",
    "\n",
    "waiter = client.get_waiter('data_source_available')\n",
    "waiter.wait(FilterVariable='Name', EQ=train_datasource_name)\n",
    "waiter.wait(FilterVariable='Name', EQ=test_datasource_name)\n",
    "print( \"Datasources created successfully!\" )"
   ]
  },
  {
   "cell_type": "markdown",
   "metadata": {},
   "source": [
    "## Creating/training the Category model\n",
    "\n",
    "This is the Model Recipe. It contains the last transformations applyed to your dataset before start training the model. Please note the function: ngram(product_name, 2). It will create bigrams for the input text. So, the model will consider as input a term frequency table, extracted from the bigrams of the product_name."
   ]
  },
  {
   "cell_type": "code",
   "execution_count": 107,
   "metadata": {},
   "outputs": [
    {
     "name": "stdout",
     "output_type": "stream",
     "text": [
      "{\n",
      "  \"groups\": {},\n",
      "  \"assignments\": {},\n",
      "  \"outputs\": [\n",
      "    \"ngram(product_name,2)\"\n",
      "  ]\n",
      "}\n",
      "\n"
     ]
    }
   ],
   "source": [
    "cat_recipe = open('category_recipe.json', 'r').read()\n",
    "print(cat_recipe)"
   ]
  },
  {
   "cell_type": "markdown",
   "metadata": {},
   "source": [
    "Reference: http://docs.aws.amazon.com/machine-learning/latest/dg/data-transformations-reference.html\n",
    "## The training will start as soon as you execute the command bellow"
   ]
  },
  {
   "cell_type": "code",
   "execution_count": 109,
   "metadata": {},
   "outputs": [
    {
     "name": "stdout",
     "output_type": "stream",
     "text": [
      "ProdutoCategorias_20180327_231911\n",
      "Model created successfully!\n"
     ]
    }
   ],
   "source": [
    "model_name = 'ProdutoCategorias' + '_' + strftime(\"%Y%m%d_%H%M%S\", gmtime())\n",
    "print(model_name)\n",
    "resp = client.create_ml_model(\n",
    "    MLModelId=model_name,\n",
    "    MLModelName=model_name,\n",
    "    MLModelType='MULTICLASS',\n",
    "    Parameters={\n",
    "        'sgd.maxPasses': '30',\n",
    "        'sgd.shuffleType': 'auto',\n",
    "        'sgd.l2RegularizationAmount': '1e-6'\n",
    "    },\n",
    "    TrainingDataSourceId=train_datasource_name,\n",
    "    Recipe=cat_recipe\n",
    ")\n",
    "waiter = client.get_waiter('ml_model_available')\n",
    "waiter.wait(FilterVariable='Name', EQ=model_name)\n",
    "print( \"Model created successfully!\" )"
   ]
  },
  {
   "cell_type": "code",
   "execution_count": 111,
   "metadata": {},
   "outputs": [
    {
     "name": "stdout",
     "output_type": "stream",
     "text": [
      "Model evaluated successfully!\n"
     ]
    }
   ],
   "source": [
    "eval_name = 'ProdutoCategoriasEval' + '_' + strftime(\"%Y%m%d_%H%M%S\", gmtime())\n",
    "# it will take around 4mins.\n",
    "resp = client.create_evaluation(\n",
    "    EvaluationId=eval_name,\n",
    "    EvaluationName=eval_name,\n",
    "    MLModelId=model_name,\n",
    "    EvaluationDataSourceId=test_datasource_name\n",
    ")\n",
    "waiter = client.get_waiter('evaluation_available')\n",
    "waiter.wait(FilterVariable='Name', EQ=eval_name)\n",
    "print( \"Model evaluated successfully!\" )"
   ]
  },
  {
   "cell_type": "markdown",
   "metadata": {},
   "source": [
    "#### It will take a few more minutes, please check the service console if you wish"
   ]
  },
  {
   "cell_type": "markdown",
   "metadata": {},
   "source": [
    "## Checking the model score..."
   ]
  },
  {
   "cell_type": "code",
   "execution_count": 112,
   "metadata": {},
   "outputs": [
    {
     "name": "stdout",
     "output_type": "stream",
     "text": [
      "Score categorias: 0.9891410890497209\n"
     ]
    }
   ],
   "source": [
    "score = client.get_evaluation( EvaluationId=eval_name )\n",
    "print(\"Score categorias: {}\".format( score['PerformanceMetrics']['Properties']['MulticlassAvgFScore'] ) )"
   ]
  },
  {
   "cell_type": "markdown",
   "metadata": {},
   "source": [
    "# Predicting new Categories with the trained model"
   ]
  },
  {
   "cell_type": "code",
   "execution_count": 113,
   "metadata": {},
   "outputs": [
    {
     "name": "stdout",
     "output_type": "stream",
     "text": [
      "Please, wait a few minutes while the endpoint is being created. Get some coffee...\n"
     ]
    }
   ],
   "source": [
    "try:\n",
    "    client.create_realtime_endpoint(\n",
    "        MLModelId=model_name\n",
    "    )\n",
    "    print('Please, wait a few seconds while the endpoint is being created. Get some coffee...')\n",
    "except Exception as e:\n",
    "    print(e)"
   ]
  },
  {
   "cell_type": "code",
   "execution_count": 115,
   "metadata": {
    "collapsed": true
   },
   "outputs": [],
   "source": [
    "def predict_category( product_name ):\n",
    "    response = client.predict(\n",
    "        MLModelId=model_name,\n",
    "        Record={\n",
    "            'product_name': product_name\n",
    "        },\n",
    "        PredictEndpoint='https://realtime.machinelearning.us-east-1.amazonaws.com'\n",
    "    )\n",
    "    return response['Prediction']['predictedLabel']"
   ]
  },
  {
   "cell_type": "code",
   "execution_count": 116,
   "metadata": {},
   "outputs": [
    {
     "data": {
      "text/html": [
       "<div>\n",
       "<style>\n",
       "    .dataframe thead tr:only-child th {\n",
       "        text-align: right;\n",
       "    }\n",
       "\n",
       "    .dataframe thead th {\n",
       "        text-align: left;\n",
       "    }\n",
       "\n",
       "    .dataframe tbody tr th {\n",
       "        vertical-align: top;\n",
       "    }\n",
       "</style>\n",
       "<table border=\"1\" class=\"dataframe\">\n",
       "  <thead>\n",
       "    <tr style=\"text-align: right;\">\n",
       "      <th></th>\n",
       "      <th>product_name</th>\n",
       "      <th>category</th>\n",
       "      <th>sub_category</th>\n",
       "    </tr>\n",
       "  </thead>\n",
       "  <tbody>\n",
       "    <tr>\n",
       "      <th>0</th>\n",
       "      <td>regata phun clean co califa rnia verde esmeralda</td>\n",
       "      <td>vestuarios</td>\n",
       "      <td>regata</td>\n",
       "    </tr>\n",
       "    <tr>\n",
       "      <th>1</th>\n",
       "      <td>bolsa ala off white</td>\n",
       "      <td>acessorios</td>\n",
       "      <td>bolsa</td>\n",
       "    </tr>\n",
       "    <tr>\n",
       "      <th>2</th>\n",
       "      <td>sandalia abuela lola prata</td>\n",
       "      <td>calcados</td>\n",
       "      <td>sandalia</td>\n",
       "    </tr>\n",
       "    <tr>\n",
       "      <th>3</th>\n",
       "      <td>bona legalize aba reta preto</td>\n",
       "      <td>acessorios</td>\n",
       "      <td>bone</td>\n",
       "    </tr>\n",
       "    <tr>\n",
       "      <th>4</th>\n",
       "      <td>bone legalize aba reta preto</td>\n",
       "      <td>acessorios</td>\n",
       "      <td>bone</td>\n",
       "    </tr>\n",
       "  </tbody>\n",
       "</table>\n",
       "</div>"
      ],
      "text/plain": [
       "                                       product_name    category sub_category\n",
       "0  regata phun clean co califa rnia verde esmeralda  vestuarios       regata\n",
       "1                               bolsa ala off white  acessorios        bolsa\n",
       "2                        sandalia abuela lola prata    calcados     sandalia\n",
       "3                      bona legalize aba reta preto  acessorios         bone\n",
       "4                      bone legalize aba reta preto  acessorios         bone"
      ]
     },
     "execution_count": 116,
     "metadata": {},
     "output_type": "execute_result"
    }
   ],
   "source": [
    "testes = pd.read_csv(base_dir + '/testes.csv', sep=',', encoding='utf-8')\n",
    "testes.head()"
   ]
  },
  {
   "cell_type": "code",
   "execution_count": 117,
   "metadata": {},
   "outputs": [
    {
     "data": {
      "text/html": [
       "<div>\n",
       "<style>\n",
       "    .dataframe thead tr:only-child th {\n",
       "        text-align: right;\n",
       "    }\n",
       "\n",
       "    .dataframe thead th {\n",
       "        text-align: left;\n",
       "    }\n",
       "\n",
       "    .dataframe tbody tr th {\n",
       "        vertical-align: top;\n",
       "    }\n",
       "</style>\n",
       "<table border=\"1\" class=\"dataframe\">\n",
       "  <thead>\n",
       "    <tr style=\"text-align: right;\">\n",
       "      <th></th>\n",
       "      <th>product_name</th>\n",
       "      <th>category</th>\n",
       "      <th>sub_category</th>\n",
       "      <th>predicted_category</th>\n",
       "    </tr>\n",
       "  </thead>\n",
       "  <tbody>\n",
       "    <tr>\n",
       "      <th>0</th>\n",
       "      <td>regata phun clean co califa rnia verde esmeralda</td>\n",
       "      <td>vestuarios</td>\n",
       "      <td>regata</td>\n",
       "      <td>vestuarios</td>\n",
       "    </tr>\n",
       "    <tr>\n",
       "      <th>1</th>\n",
       "      <td>bolsa ala off white</td>\n",
       "      <td>acessorios</td>\n",
       "      <td>bolsa</td>\n",
       "      <td>acessorios</td>\n",
       "    </tr>\n",
       "    <tr>\n",
       "      <th>2</th>\n",
       "      <td>sandalia abuela lola prata</td>\n",
       "      <td>calcados</td>\n",
       "      <td>sandalia</td>\n",
       "      <td>calcados</td>\n",
       "    </tr>\n",
       "    <tr>\n",
       "      <th>3</th>\n",
       "      <td>bona legalize aba reta preto</td>\n",
       "      <td>acessorios</td>\n",
       "      <td>bone</td>\n",
       "      <td>acessorios</td>\n",
       "    </tr>\n",
       "    <tr>\n",
       "      <th>4</th>\n",
       "      <td>bone legalize aba reta preto</td>\n",
       "      <td>acessorios</td>\n",
       "      <td>bone</td>\n",
       "      <td>acessorios</td>\n",
       "    </tr>\n",
       "    <tr>\n",
       "      <th>5</th>\n",
       "      <td>cala leopoldina flare preto</td>\n",
       "      <td>vestuarios</td>\n",
       "      <td>calca</td>\n",
       "      <td>vestuarios</td>\n",
       "    </tr>\n",
       "  </tbody>\n",
       "</table>\n",
       "</div>"
      ],
      "text/plain": [
       "                                       product_name    category sub_category  \\\n",
       "0  regata phun clean co califa rnia verde esmeralda  vestuarios       regata   \n",
       "1                               bolsa ala off white  acessorios        bolsa   \n",
       "2                        sandalia abuela lola prata    calcados     sandalia   \n",
       "3                      bona legalize aba reta preto  acessorios         bone   \n",
       "4                      bone legalize aba reta preto  acessorios         bone   \n",
       "5                       cala leopoldina flare preto  vestuarios        calca   \n",
       "\n",
       "  predicted_category  \n",
       "0         vestuarios  \n",
       "1         acessorios  \n",
       "2           calcados  \n",
       "3         acessorios  \n",
       "4         acessorios  \n",
       "5         vestuarios  "
      ]
     },
     "execution_count": 117,
     "metadata": {},
     "output_type": "execute_result"
    }
   ],
   "source": [
    "testes['predicted_category'] = testes['product_name'].apply(predict_category)\n",
    "testes"
   ]
  },
  {
   "cell_type": "markdown",
   "metadata": {},
   "source": [
    "# Cleaning Up"
   ]
  },
  {
   "cell_type": "code",
   "execution_count": 123,
   "metadata": {},
   "outputs": [
    {
     "name": "stdout",
     "output_type": "stream",
     "text": [
      "Endpoint deleted\n",
      "Model deleted\n",
      "Evaluation deleted\n",
      "Datasource deleted\n",
      "Endpoint deleted\n"
     ]
    }
   ],
   "source": [
    "client.delete_realtime_endpoint(MLModelId=model_name)\n",
    "print(\"Endpoint deleted\")\n",
    "client.delete_ml_model(MLModelId=model_name)\n",
    "print(\"Model deleted\")\n",
    "client.delete_evaluation(EvaluationId=eval_name)\n",
    "print(\"Evaluation deleted\")\n",
    "client.delete_data_source(DataSourceId=test_datasource_name)\n",
    "print(\"Datasource deleted\")\n",
    "client.delete_data_source(DataSourceId=train_datasource_name)\n",
    "print(\"Endpoint deleted\")"
   ]
  },
  {
   "cell_type": "markdown",
   "metadata": {},
   "source": [
    "# Well Done!"
   ]
  }
 ],
 "metadata": {
  "kernelspec": {
   "display_name": "conda_python3",
   "language": "python",
   "name": "conda_python3"
  },
  "language_info": {
   "codemirror_mode": {
    "name": "ipython",
    "version": 3
   },
   "file_extension": ".py",
   "mimetype": "text/x-python",
   "name": "python",
   "nbconvert_exporter": "python",
   "pygments_lexer": "ipython3",
   "version": "3.6.2"
  }
 },
 "nbformat": 4,
 "nbformat_minor": 2
}
