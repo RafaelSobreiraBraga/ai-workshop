{
 "cells": [
  {
   "cell_type": "code",
   "execution_count": 1,
   "metadata": {},
   "outputs": [
    {
     "name": "stderr",
     "output_type": "stream",
     "text": [
      "/home/ec2-user/anaconda3/envs/mxnet_p36/lib/python3.6/site-packages/urllib3/contrib/pyopenssl.py:46: DeprecationWarning: OpenSSL.rand is deprecated - you should use os.urandom instead\n",
      "  import OpenSSL.SSL\n"
     ]
    }
   ],
   "source": [
    "import json\n",
    "import logging\n",
    "import os\n",
    "import time\n",
    "import numpy as np\n",
    "import mxnet as mx\n",
    "\n",
    "from collections import namedtuple"
   ]
  },
  {
   "cell_type": "code",
   "execution_count": 2,
   "metadata": {
    "collapsed": true
   },
   "outputs": [],
   "source": [
    "def train(current_host, hosts, num_cpus, num_gpus, channel_input_dirs, model_dir, hyperparameters, **kwargs):\n",
    "    ctx = [mx.gpu(i) for i in range(num_gpus)] if num_gpus > 0 else [mx.cpu()]\n",
    "    mx.random.seed(127)\n",
    "    \n",
    "    path='http://data.mxnet.io/models/imagenet-11k/'\n",
    "    [mx.test_utils.download(path+'resnet-152/resnet-152-symbol.json'),\n",
    "     mx.test_utils.download(path+'resnet-152/resnet-152-0000.params'),\n",
    "     mx.test_utils.download(path+'synset.txt')]\n",
    "    \n",
    "    sym, arg_params, aux_params = mx.model.load_checkpoint('resnet-152', 0)\n",
    "    \n",
    "    mod = mx.mod.Module(symbol=sym, context=ctx, label_names=None)\n",
    "    mod.bind(for_training=False, data_shapes=[('data', (1,3,224,224))], \n",
    "        label_shapes=mod._label_shapes)\n",
    "    mod.set_params(arg_params, aux_params, allow_missing=True)\n",
    "    \n",
    "    all_layers = sym.get_internals()\n",
    "\n",
    "    hash_output = all_layers['flatten0_output']\n",
    "    hash_output = mx.symbol.LogisticRegressionOutput(data=hash_output, name='sig')\n",
    "\n",
    "    net = mx.symbol.Group([hash_output, all_layers[\"softmax_output\"]])\n",
    "\n",
    "    image_search_mod = mx.mod.Module(symbol=net, context=ctx, label_names=[ 'sig_label', 'softmax_label'])\n",
    "    image_search_mod.bind(for_training=False, data_shapes=[('data', (1,3,224,224))], \n",
    "        label_shapes=image_search_mod._label_shapes)\n",
    "    image_search_mod.set_params(arg_params, aux_params, allow_missing=False)\n",
    "    \n",
    "    return image_search_mod"
   ]
  },
  {
   "cell_type": "code",
   "execution_count": 3,
   "metadata": {},
   "outputs": [],
   "source": [
    "def save(net, model_dir):\n",
    "    net.save_checkpoint('%s/model' % model_dir, 0)\n",
    "    \n",
    "    shapes = open ( '%s/model-shapes.json' % model_dir, \"w\")\n",
    "    json.dump([{\"shape\": net.data_shapes[0][1], \"name\": \"data\"}], shapes)\n",
    "    shapes.flush()\n",
    "    shapes.close()"
   ]
  },
  {
   "cell_type": "code",
   "execution_count": 4,
   "metadata": {
    "collapsed": true
   },
   "outputs": [],
   "source": [
    "def get_test_data(data_dir, batch_size, data_shape):\n",
    "    return None\n",
    "\n",
    "def get_train_data(data_dir, batch_size, data_shape):\n",
    "    return None"
   ]
  },
  {
   "cell_type": "code",
   "execution_count": 5,
   "metadata": {
    "collapsed": true
   },
   "outputs": [],
   "source": [
    "def test(ctx, net, test_data):\n",
    "    return None"
   ]
  },
  {
   "cell_type": "code",
   "execution_count": 6,
   "metadata": {
    "collapsed": true
   },
   "outputs": [],
   "source": [
    "def model_fn(model_dir):\n",
    "    \"\"\"\n",
    "    Load the model. Called once when hosting service starts.\n",
    "\n",
    "    :param: model_dir The directory where model files are stored.\n",
    "    :return: a model (in this case a network)\n",
    "    \"\"\"\n",
    "    net, arg_params, aux_params = mx.model.load_checkpoint(os.path.join(model_dir, 'model'), 0)\n",
    "\n",
    "    image_search_mod = mx.mod.Module(symbol=net, context=mx.cpu(), label_names=[ 'sig_label', 'softmax_label'])\n",
    "    image_search_mod.bind(for_training=False, data_shapes=[('data', (1,3,224,224))], \n",
    "        label_shapes=image_search_mod._label_shapes)\n",
    "    image_search_mod.set_params(arg_params, aux_params, allow_missing=False)\n",
    "\n",
    "    return image_search_mod"
   ]
  },
  {
   "cell_type": "code",
   "execution_count": 7,
   "metadata": {
    "collapsed": true
   },
   "outputs": [],
   "source": [
    "def transform_fn(net, data, input_content_type, output_content_type):\n",
    "    \"\"\"\n",
    "    Transform a request using the model. Called once per request.\n",
    "\n",
    "    :param net: The model.\n",
    "    :param data: The request payload.\n",
    "    :param input_content_type: The request content type.\n",
    "    :param output_content_type: The (desired) response content type.\n",
    "    :return: response payload and content type.\n",
    "    \"\"\"\n",
    "    resp = []\n",
    "\n",
    "    try:\n",
    "        Batch = namedtuple('Batch', ['data'])\n",
    "        \n",
    "        parsed = json.loads(data)\n",
    "        img = mx.nd.array([parsed])\n",
    "        \n",
    "        net.forward(Batch([img]))\n",
    "        prob_hash = net.get_outputs()[0][0].asnumpy()\n",
    "\n",
    "        prob_cat = net.get_outputs()[1][0].asnumpy()\n",
    "        prob_cat = np.squeeze(prob_cat)\n",
    "        index_cat = np.argsort(prob_cat)[::-1]\n",
    "        categories = []\n",
    "        for i in index_cat[0:10]:\n",
    "            categories.append( [int(i), float(prob_cat[i]) ] )\n",
    "\n",
    "        hash_ =  \"\".join( map(str, np.where(prob_hash >= 0.75, 1, 0) ) )\n",
    "    except Exception as e:\n",
    "        logging.error(e)\n",
    "\n",
    "    return json.dumps({\"categories\": categories, \"hash\": hash_ }), output_content_type"
   ]
  },
  {
   "cell_type": "markdown",
   "metadata": {},
   "source": [
    "## Testing the code"
   ]
  },
  {
   "cell_type": "code",
   "execution_count": 8,
   "metadata": {},
   "outputs": [],
   "source": [
    "current_host='algo-1'\n",
    "hosts=['algo-1']\n",
    "num_cpus=4\n",
    "num_gpus=1\n",
    "channel_input_dirs={\n",
    "    'training': '/opt/ml/input/data/training'\n",
    "}\n",
    "model_dir='/opt/ml/model'\n",
    "hyperparameters = {\n",
    "    \"learning_rate\": 0.001\n",
    "}"
   ]
  },
  {
   "cell_type": "code",
   "execution_count": 9,
   "metadata": {
    "collapsed": true
   },
   "outputs": [],
   "source": [
    "from PIL import Image\n",
    "def get_image(img_name):\n",
    "    img = Image.open(img_name)\n",
    "    img = img.resize((224, 224))\n",
    "    img = np.transpose(img, (2,0,1))\n",
    "    return img"
   ]
  },
  {
   "cell_type": "code",
   "execution_count": 10,
   "metadata": {
    "collapsed": true
   },
   "outputs": [],
   "source": [
    "class NumPyArangeEncoder(json.JSONEncoder):\n",
    "    def default(self, obj):\n",
    "        if isinstance(obj, np.ndarray):\n",
    "            return obj.tolist() # or map(int, obj)\n",
    "        return json.JSONEncoder.default(self, obj)"
   ]
  },
  {
   "cell_type": "code",
   "execution_count": 11,
   "metadata": {},
   "outputs": [
    {
     "name": "stderr",
     "output_type": "stream",
     "text": [
      "/home/ec2-user/anaconda3/envs/mxnet_p36/lib/python3.6/site-packages/mxnet/module/base_module.py:65: UserWarning: Data provided by label_shapes don't match names specified by label_names ([] vs. ['sig_label', 'softmax_label'])\n",
      "  warnings.warn(msg)\n"
     ]
    }
   ],
   "source": [
    "net = train(current_host, hosts, num_cpus, num_gpus, channel_input_dirs, model_dir, hyperparameters)"
   ]
  },
  {
   "cell_type": "code",
   "execution_count": 12,
   "metadata": {},
   "outputs": [],
   "source": [
    "save(net, model_dir)"
   ]
  },
  {
   "cell_type": "code",
   "execution_count": 13,
   "metadata": {},
   "outputs": [
    {
     "name": "stderr",
     "output_type": "stream",
     "text": [
      "/home/ec2-user/anaconda3/envs/mxnet_p36/lib/python3.6/site-packages/mxnet/module/base_module.py:65: UserWarning: Data provided by label_shapes don't match names specified by label_names ([] vs. ['sig_label', 'softmax_label'])\n",
      "  warnings.warn(msg)\n"
     ]
    }
   ],
   "source": [
    "net = model_fn(model_dir)"
   ]
  },
  {
   "cell_type": "code",
   "execution_count": 14,
   "metadata": {},
   "outputs": [
    {
     "data": {
      "text/plain": [
       "('{\"categories\": [[5176, 0.3802463412284851], [6439, 0.21439851820468903], [2606, 0.057544220238924026], [3173, 0.03890830650925636], [2990, 0.0227846447378397], [5174, 0.020044080913066864], [3482, 0.019117407500743866], [3266, 0.016844220459461212], [3483, 0.016691792756319046], [6998, 0.014003356918692589]], \"hash\": \"00110100100000000100000011100000001110110001000001011000000111111000100011000100000000000100111001100000100000000001001001101100110100000001100001000111001100000101101011010011010001111000111111000110011001110001111010000000000010000010000000100101010010101100100000000011000000010100100110010101100110000110001101000100001000010000000110010110100001101100001010000010001000011100000010000001001000001000110000000001010100110111100001000100011000111100000100001000000100000011100011000101000100001010101111000000000001010101100010101000001000001110010100000000011000011000010000010111100101001111000001010000100110110001001001100110001111101100110000000001110000000010100010010000001010000010101100000101000100110001000100000001010101010010000110100000100000100001110011010000100100011001001000100001010000001101100000000010011000000101000000010000011001010000001000010101001000001001100001011001001000001011001100000010100001100000010001100000101111000100001000010000010011000101001010000100101101011101100011101011010010100101000110001000001001000100000000110000100110001000010000100110101110011100001001010000010101111000000000000000100001000110010001000000100010000000100000110110100001001000010111000010001101000010010010000000000100010000000000001100001100000010010010000100010001000000000000010000101000001101000000000010011000001110000100010000000100000000001010000101000110010100000100000001000100110000000001010000010110000001101001010100000010011011100011001001000011011101000000000000110101110001000000010100100110001100101001000100011110000101001100000010000100000010001010011110000000100100011000001000110110000000001000000011001000010100000111010100100000100011001000101010000011000000110000010010010000100110000111100001010000000000011100001000000001000001000011011000000111100011010001000100100001101000100100000001100100000111000100010010011100000111010100000000010010000000000001100000100100010000000000100001010011001100000000001010000000001100001001010000101000000001000110110000100000111010000010100010100100100000010000101111\"}',\n",
       " 'application/json')"
      ]
     },
     "execution_count": 14,
     "metadata": {},
     "output_type": "execute_result"
    }
   ],
   "source": [
    "img = get_image('cadeira.jpg')\n",
    "data = json.dumps(img, cls=NumPyArangeEncoder)\n",
    "\n",
    "input_content_type = 'application/json'\n",
    "output_content_type = 'application/json'\n",
    "\n",
    "transform_fn(net, data, input_content_type, output_content_type)"
   ]
  },
  {
   "cell_type": "markdown",
   "metadata": {},
   "source": [
    "## Saving the script"
   ]
  },
  {
   "cell_type": "code",
   "execution_count": 15,
   "metadata": {
    "collapsed": true
   },
   "outputs": [],
   "source": [
    "import inspect"
   ]
  },
  {
   "cell_type": "code",
   "execution_count": 16,
   "metadata": {},
   "outputs": [],
   "source": [
    "code = open('visual.py', 'w')\n",
    "code.write(\"\"\"\n",
    "import json\n",
    "import logging\n",
    "import os\n",
    "import time\n",
    "import numpy as np\n",
    "import mxnet as mx\n",
    "\n",
    "from collections import namedtuple\n",
    "\n",
    "\"\"\")\n",
    "for func in [train, save, get_test_data, get_train_data, test, model_fn, transform_fn]:\n",
    "    code.write(inspect.getsource(func) + '\\n')\n",
    "code.flush()\n",
    "code.close()"
   ]
  },
  {
   "cell_type": "markdown",
   "metadata": {},
   "source": [
    "## Deploy the model to a Sagemaker Endpoint"
   ]
  },
  {
   "cell_type": "code",
   "execution_count": 17,
   "metadata": {
    "collapsed": true
   },
   "outputs": [],
   "source": [
    "import sagemaker\n",
    "import cv2\n",
    "import pandas as pd\n",
    "import tarfile\n",
    "import os\n",
    "\n",
    "from sagemaker.mxnet import MXNet"
   ]
  },
  {
   "cell_type": "code",
   "execution_count": 18,
   "metadata": {
    "collapsed": true
   },
   "outputs": [],
   "source": [
    "model_tarball = '/tmp/model.tar.gz'\n",
    "entry_point = 'visual.py'\n",
    "py_version='py3'\n",
    "endpoint_name='visual-search'\n",
    "model_name='visual-search'"
   ]
  },
  {
   "cell_type": "code",
   "execution_count": 19,
   "metadata": {
    "collapsed": true
   },
   "outputs": [],
   "source": [
    "sagemaker_session = sagemaker.Session()\n",
    "\n",
    "role = sagemaker.get_execution_role()"
   ]
  },
  {
   "cell_type": "code",
   "execution_count": 20,
   "metadata": {},
   "outputs": [],
   "source": [
    "tarball = tarfile.open(model_tarball, \"w:gz\" )\n",
    "for f in os.listdir(model_dir):\n",
    "    tarball.add(os.path.join(model_dir, f), arcname=f)\n",
    "tarball.close()"
   ]
  },
  {
   "cell_type": "code",
   "execution_count": 21,
   "metadata": {},
   "outputs": [
    {
     "name": "stdout",
     "output_type": "stream",
     "text": [
      "-rw-rw-r-- ec2-user/ec2-user 45 2018-03-23 15:55 model-shapes.json\n",
      "-rw-rw-r-- ec2-user/ec2-user 325144599 2018-03-23 15:55 model-0000.params\n",
      "-rw-rw-r-- ec2-user/ec2-user    292835 2018-03-23 15:55 model-symbol.json\n"
     ]
    }
   ],
   "source": [
    "!tar -tzvf $model_tarball"
   ]
  },
  {
   "cell_type": "code",
   "execution_count": 22,
   "metadata": {},
   "outputs": [
    {
     "name": "stderr",
     "output_type": "stream",
     "text": [
      "INFO:sagemaker:Created S3 bucket: sagemaker-us-east-1-715445047862\n"
     ]
    },
    {
     "name": "stdout",
     "output_type": "stream",
     "text": [
      "s3://sagemaker-us-east-1-715445047862/data/visual/model.tar.gz\n"
     ]
    }
   ],
   "source": [
    "model_data = sagemaker_session.upload_data(path=model_tarball, key_prefix='data/visual')\n",
    "print(model_data)"
   ]
  },
  {
   "cell_type": "code",
   "execution_count": 66,
   "metadata": {},
   "outputs": [],
   "source": [
    "m = sagemaker.mxnet.model.MXNetModel(model_data=model_data, role=role, entry_point=entry_point, py_version=py_version)"
   ]
  },
  {
   "cell_type": "code",
   "execution_count": 67,
   "metadata": {},
   "outputs": [
    {
     "name": "stderr",
     "output_type": "stream",
     "text": [
      "INFO:sagemaker:Created S3 bucket: sagemaker-us-east-1-715445047862\n",
      "INFO:sagemaker:Creating model with name: sagemaker-mxnet-py3-cpu-2018-03-23-17-23-13-120\n",
      "INFO:sagemaker:Creating endpoint with name visual-search\n"
     ]
    },
    {
     "name": "stdout",
     "output_type": "stream",
     "text": [
      "---------------------------------------------------------------------------------------------------!CPU times: user 528 ms, sys: 28 ms, total: 556 ms\n",
      "Wall time: 8min 28s\n"
     ]
    },
    {
     "data": {
      "text/plain": [
       "<sagemaker.mxnet.model.MXNetPredictor at 0x7f875c146eb8>"
      ]
     },
     "execution_count": 67,
     "metadata": {},
     "output_type": "execute_result"
    }
   ],
   "source": [
    "%%time\n",
    "# takes around 8mins\n",
    "m.deploy(initial_instance_count=1, instance_type='ml.t2.medium', endpoint_name=endpoint_name)"
   ]
  },
  {
   "cell_type": "markdown",
   "metadata": {},
   "source": [
    "## Calling the endpoint"
   ]
  },
  {
   "cell_type": "code",
   "execution_count": 12,
   "metadata": {
    "collapsed": true
   },
   "outputs": [],
   "source": [
    "%matplotlib inline\n",
    "\n",
    "import boto3\n",
    "import matplotlib.pyplot as plt\n",
    "import json\n",
    "import numpy as np\n",
    "\n",
    "from sagemaker.predictor import json_serializer, json_deserializer\n",
    "from PIL import Image"
   ]
  },
  {
   "cell_type": "code",
   "execution_count": 6,
   "metadata": {
    "collapsed": true
   },
   "outputs": [],
   "source": [
    "endpoint_name='visual-search'\n",
    "\n",
    "synset = open('synset.txt', 'r')\n",
    "object_classes = []\n",
    "for l in synset:\n",
    "    object_classes.append(l.split(' ')[1].replace('\\n', ''))\n",
    "synset.close()"
   ]
  },
  {
   "cell_type": "code",
   "execution_count": 7,
   "metadata": {},
   "outputs": [],
   "source": [
    "class NumPyArangeEncoder(json.JSONEncoder):\n",
    "    def default(self, obj):\n",
    "        if isinstance(obj, np.ndarray):\n",
    "            return obj.tolist() # or map(int, obj)\n",
    "        return json.JSONEncoder.default(self, obj)"
   ]
  },
  {
   "cell_type": "code",
   "execution_count": 8,
   "metadata": {
    "collapsed": true
   },
   "outputs": [],
   "source": [
    "def get_image(img_name):\n",
    "    img = Image.open(img_name)\n",
    "    img = img.resize((224, 224))\n",
    "    img = np.transpose(img, (2,0,1))\n",
    "    return img"
   ]
  },
  {
   "cell_type": "code",
   "execution_count": 9,
   "metadata": {
    "collapsed": true
   },
   "outputs": [],
   "source": [
    "def hamming2(s1, s2):\n",
    "    \"\"\"Calculate the Hamming distance between two bit strings\"\"\"\n",
    "    assert len(s1) == len(s2)\n",
    "    return sum(c1 != c2 for c1, c2 in zip(s1, s2))"
   ]
  },
  {
   "cell_type": "code",
   "execution_count": 10,
   "metadata": {
    "collapsed": true
   },
   "outputs": [],
   "source": [
    "def get_hash(img):\n",
    "    sm = boto3.client('sagemaker-runtime')\n",
    "    response = sm.invoke_endpoint(\n",
    "        EndpointName=endpoint_name,\n",
    "        Body=json.dumps(img, cls=NumPyArangeEncoder)\n",
    "    )\n",
    "    response = json_deserializer(response['Body'], response['ContentType'])  \n",
    "    \n",
    "    return response"
   ]
  },
  {
   "cell_type": "code",
   "execution_count": null,
   "metadata": {
    "collapsed": true
   },
   "outputs": [],
   "source": []
  },
  {
   "cell_type": "code",
   "execution_count": 13,
   "metadata": {},
   "outputs": [
    {
     "name": "stdout",
     "output_type": "stream",
     "text": [
      "CPU times: user 48 ms, sys: 12 ms, total: 60 ms\n",
      "Wall time: 6.9 s\n"
     ]
    }
   ],
   "source": [
    "%%time\n",
    "image = get_image('criado.jpg')\n",
    "item_hash = get_hash(image)"
   ]
  },
  {
   "cell_type": "code",
   "execution_count": 14,
   "metadata": {},
   "outputs": [],
   "source": [
    "categories = list(map( lambda x: ( object_classes[x[0]], x[1]), item_hash['categories']))"
   ]
  },
  {
   "cell_type": "code",
   "execution_count": 15,
   "metadata": {},
   "outputs": [],
   "source": [
    "metadata = json.loads(open(\"mobly.json\", \"r\").read())"
   ]
  },
  {
   "cell_type": "code",
   "execution_count": 16,
   "metadata": {
    "collapsed": true
   },
   "outputs": [],
   "source": [
    "dist = {}\n",
    "for i in metadata:\n",
    "    dist[i] = hamming2( item_hash['hash'], metadata[i][\"properties\"][\"hash\"] )"
   ]
  },
  {
   "cell_type": "code",
   "execution_count": 28,
   "metadata": {},
   "outputs": [],
   "source": [
    "result = []\n",
    "for w in sorted(dist, key=dist.get, reverse=False):\n",
    "    result.append( (dist[w], metadata[w]['properties'][ 'image_path']) )"
   ]
  },
  {
   "cell_type": "code",
   "execution_count": 26,
   "metadata": {},
   "outputs": [
    {
     "data": {
      "image/png": "[encoded data removed]",
      "text/plain": [
       "<matplotlib.figure.Figure at 0x7fe518b73550>"
      ]
     },
     "metadata": {},
     "output_type": "display_data"
    }
   ],
   "source": [
    "f, axarr = plt.subplots(1, 5, figsize=(20,12))\n",
    "for i in range(5):\n",
    "    im = Image.open(result[5:10][i][1])\n",
    "    frame = axarr[i].imshow(im)   \n",
    "plt.show() "
   ]
  },
  {
   "cell_type": "markdown",
   "metadata": {},
   "source": [
    "## Deleting the endpoint"
   ]
  },
  {
   "cell_type": "code",
   "execution_count": 65,
   "metadata": {},
   "outputs": [
    {
     "name": "stderr",
     "output_type": "stream",
     "text": [
      "INFO:sagemaker:Deleting endpoint with name: visual-search\n"
     ]
    },
    {
     "name": "stdout",
     "output_type": "stream",
     "text": [
      "CPU times: user 16 ms, sys: 4 ms, total: 20 ms\n",
      "Wall time: 329 ms\n"
     ]
    }
   ],
   "source": [
    "%%time\n",
    "sagemaker_session.delete_endpoint(endpoint_name)"
   ]
  },
  {
   "cell_type": "code",
   "execution_count": null,
   "metadata": {
    "collapsed": true
   },
   "outputs": [],
   "source": []
  }
 ],
 "metadata": {
  "kernelspec": {
   "display_name": "conda_mxnet_p36",
   "language": "python",
   "name": "conda_mxnet_p36"
  },
  "language_info": {
   "codemirror_mode": {
    "name": "ipython",
    "version": 3
   },
   "file_extension": ".py",
   "mimetype": "text/x-python",
   "name": "python",
   "nbconvert_exporter": "python",
   "pygments_lexer": "ipython3",
   "version": "3.6.3"
  }
 },
 "nbformat": 4,
 "nbformat_minor": 2
}
