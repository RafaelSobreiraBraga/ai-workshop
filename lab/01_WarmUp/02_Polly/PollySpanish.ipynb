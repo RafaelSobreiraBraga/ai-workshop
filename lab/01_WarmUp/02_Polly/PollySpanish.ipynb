{
 "cells": [
  {
   "cell_type": "markdown",
   "metadata": {},
   "source": [
    "## Demostración del servicio (Speech to text) Amazon Polly\n",
    "\n",
    "\n",
    "Aquí verás un resumen de las características que posee Polly.\n",
    "El texto de entrada del servicio puede ser puro o en formato SSML. El formato SSML es un estándar W3C. Este formato sirve para describir la forma en que un texto debe ser leído por el sintetizador. Con los siguientes ejemplos quedará más claro cómo utilizar SSML.\n"
   ]
  },
  {
   "cell_type": "code",
   "execution_count": null,
   "metadata": {
    "collapsed": true
   },
   "outputs": [],
   "source": [
    "# checking the boto3 version\n",
    "import boto3\n",
    "if boto3.__version__ < \"1.4.8\":\n",
    "    !conda update --yes boto3\n",
    "    print(\"Please, reload your kernel now.\")"
   ]
  },
  {
   "cell_type": "code",
   "execution_count": null,
   "metadata": {
    "collapsed": true
   },
   "outputs": [],
   "source": [
    "import boto3\n",
    "import numpy as np\n",
    "import base64\n",
    "import os\n",
    "import time\n",
    "\n",
    "from io import BytesIO\n",
    "from IPython.core.display import display, HTML, Javascript, display_javascript"
   ]
  },
  {
   "cell_type": "markdown",
   "metadata": {},
   "source": [
    "Después de importar las bibliotecas, vamos a crear un cliente para Polly y un mixer. El mixer se utilizará para la reproducción del audio retornado por Polly."
   ]
  },
  {
   "cell_type": "code",
   "execution_count": null,
   "metadata": {
    "collapsed": true
   },
   "outputs": [],
   "source": [
    "client = boto3.client('polly')"
   ]
  },
  {
   "cell_type": "code",
   "execution_count": null,
   "metadata": {},
   "outputs": [],
   "source": [
    "html = \"\"\"\n",
    "<script src=\"https://ajax.googleapis.com/ajax/libs/jquery/3.2.1/jquery.min.js\"></script>\n",
    "<audio id=\"audio\"><source id=\"media\" src=\"audio.mp3\" type=\"audio/mpeg\" /></audio>\n",
    "<script type=\"text/javascript\">    \n",
    "    function play_audio(){\n",
    "        $(\"#audio\")[0].load();\n",
    "        $(\"#audio\")[0].play();\n",
    "    } // play_audio\n",
    "</script>\n",
    "\"\"\"\n",
    "HTML(html)"
   ]
  },
  {
   "cell_type": "markdown",
   "metadata": {},
   "source": [
    "Ahora vamos a definir algunas funciones auxiliares para:\n",
    "- tocar un streaming de audio\n",
    "- sintetizar el habla a partir de un archivo SSML\n",
    "- cargar un archivo del disco"
   ]
  },
  {
   "cell_type": "code",
   "execution_count": null,
   "metadata": {
    "collapsed": true
   },
   "outputs": [],
   "source": [
    "def play_audio(audiostream):\n",
    "    audio = open('audio.mp3', 'wb+')\n",
    "    audio.write(audiostream.read())\n",
    "    audio.flush()\n",
    "    audio.close()\n",
    "    \n",
    "    jso = Javascript('play_audio()')\n",
    "    display_javascript(jso)"
   ]
  },
  {
   "cell_type": "code",
   "execution_count": null,
   "metadata": {
    "collapsed": true
   },
   "outputs": [],
   "source": [
    "def sintetiza(ssml, lexicons=[], voiceid='Enrique' ):\n",
    "    if os.path.isfile('audio.mp3'):\n",
    "        os.remove('audio.mp3') \n",
    "    response = client.synthesize_speech(\n",
    "        LexiconNames=lexicons,\n",
    "        OutputFormat='mp3',\n",
    "        SampleRate='22050',\n",
    "        Text=ssml,\n",
    "        TextType='ssml',\n",
    "        VoiceId=voiceid\n",
    "    )\n",
    "    play_audio( response['AudioStream'] )\n",
    "    print(ssml)"
   ]
  },
  {
   "cell_type": "code",
   "execution_count": null,
   "metadata": {
    "collapsed": true
   },
   "outputs": [],
   "source": [
    "def load_file( filename ):\n",
    "    return \"\".join( open( filename, 'r').readlines() )"
   ]
  },
  {
   "cell_type": "markdown",
   "metadata": {},
   "source": [
    "Ok. Ahora vamos a hacer una breve prueba de lectura. Tenga en cuenta las tags &lt;speak&gt; e &lt;p&gt;. Ellas forman parte del formato SSML."
   ]
  },
  {
   "cell_type": "code",
   "execution_count": null,
   "metadata": {},
   "outputs": [],
   "source": [
    "sintetiza( load_file( 'poema.es.ssml' ) )"
   ]
  },
  {
   "cell_type": "markdown",
   "metadata": {
    "collapsed": true
   },
   "source": [
    "### Some SSML tags, supported by Polly\n",
    "   - &lt;break&gt;: Intervalo en seg o mili\n",
    "   - &lt;lang&gt;: Corrige la pronunciación de un extranjerismo\n",
    "   - &lt;mark&gt;: Agrega marcas en el texto sin cambiar la reproducción\n",
    "   - &lt;p&gt;: Configura un nuevo párrafo con una pausa.\n",
    "   - &lt;phoneme&gt;: Interpreta fonemas\n",
    "   - &lt;prosody&gt;: Regula la cadencia del habla: velocidad, entonación, etc\n",
    "   - &lt;s&gt;: Da una pausa después de leer la oración\n",
    "   - &lt;say-as&gt;: Cambia la forma de leer un texto: hora, teléfono, etc\n",
    "   - &lt;sub&gt;: Sustituye un término por una sentencia\n",
    "   - &lt;w&gt;: Cambia la pronunciación de una palabra\n",
    "   - &lt;amazon:effect name = \"whispered\"&gt;: Sussurrar\n",
    "   - &lt;amazon:effect name = \"drc\"&gt;: Resaltar sonido\n",
    "\n",
    "More info: \n",
    "http://docs.aws.amazon.com/polly/latest/dg/supported-ssml.html\n"
   ]
  },
  {
   "cell_type": "markdown",
   "metadata": {},
   "source": [
    "### P & Lang"
   ]
  },
  {
   "cell_type": "code",
   "execution_count": null,
   "metadata": {},
   "outputs": [],
   "source": [
    "sintetiza( load_file( 'lang.es.ssml' ) )"
   ]
  },
  {
   "cell_type": "markdown",
   "metadata": {
    "collapsed": true
   },
   "source": [
    "## Break"
   ]
  },
  {
   "cell_type": "code",
   "execution_count": null,
   "metadata": {},
   "outputs": [],
   "source": [
    "sintetiza( load_file( 'break.es.ssml' ) )"
   ]
  },
  {
   "cell_type": "markdown",
   "metadata": {},
   "source": [
    "## Say as"
   ]
  },
  {
   "cell_type": "code",
   "execution_count": null,
   "metadata": {},
   "outputs": [],
   "source": [
    "sintetiza( load_file( 'sayas.es.ssml' ) )"
   ]
  },
  {
   "cell_type": "markdown",
   "metadata": {},
   "source": [
    "## Lexicons"
   ]
  },
  {
   "cell_type": "markdown",
   "metadata": {},
   "source": [
    "#### Carga el archivo de de lexicons"
   ]
  },
  {
   "cell_type": "code",
   "execution_count": null,
   "metadata": {},
   "outputs": [],
   "source": [
    "acronimos = load_file( 'lexicons.es.pls' )\n",
    "print(acronimos)\n",
    "response = client.put_lexicon(\n",
    "    Name='acronimos',\n",
    "    Content=acronimos\n",
    ")"
   ]
  },
  {
   "cell_type": "code",
   "execution_count": null,
   "metadata": {
    "collapsed": true
   },
   "outputs": [],
   "source": [
    "sotaques = {\n",
    "    'uai': 'uai.es.pls',\n",
    "    'tche': 'tche.es.pls',\n",
    "    'meu': 'meu.es.pls'\n",
    "}\n",
    "for nome, nome_arquivo in sotaques.items():\n",
    "    response = client.put_lexicon(\n",
    "        Name=nome,\n",
    "        Content=load_file( nome_arquivo )\n",
    "    )"
   ]
  },
  {
   "cell_type": "code",
   "execution_count": null,
   "metadata": {},
   "outputs": [],
   "source": [
    "sintetiza( load_file( 'lexicon.es.ssml' ) )"
   ]
  },
  {
   "cell_type": "code",
   "execution_count": null,
   "metadata": {},
   "outputs": [],
   "source": [
    "sintetiza( load_file( 'lexicon.es.ssml' ), [ 'acronimos'] )"
   ]
  },
  {
   "cell_type": "code",
   "execution_count": null,
   "metadata": {},
   "outputs": [],
   "source": [
    "sintetiza( load_file( 'agua.es.ssml' ), [ 'acronimos'] )"
   ]
  },
  {
   "cell_type": "markdown",
   "metadata": {},
   "source": [
    "#### Acento Mineirês"
   ]
  },
  {
   "cell_type": "code",
   "execution_count": null,
   "metadata": {},
   "outputs": [],
   "source": [
    "sintetiza( load_file( 'lexicon_sotaques.es.ssml' ), [ 'uai'] )"
   ]
  },
  {
   "cell_type": "markdown",
   "metadata": {},
   "source": [
    "#### Acento Paulistês"
   ]
  },
  {
   "cell_type": "code",
   "execution_count": null,
   "metadata": {},
   "outputs": [],
   "source": [
    "sintetiza( load_file( 'lexicon_sotaques.es.ssml' ), [ 'meu'] )"
   ]
  },
  {
   "cell_type": "markdown",
   "metadata": {},
   "source": [
    "#### Acento Gauchês"
   ]
  },
  {
   "cell_type": "code",
   "execution_count": null,
   "metadata": {},
   "outputs": [],
   "source": [
    "sintetiza( load_file( 'lexicon_sotaques.es.ssml' ), [ 'tche'] )"
   ]
  },
  {
   "cell_type": "markdown",
   "metadata": {},
   "source": [
    "### Sussurrar y gritar"
   ]
  },
  {
   "cell_type": "code",
   "execution_count": null,
   "metadata": {},
   "outputs": [],
   "source": [
    "sintetiza( load_file( 'alteracao_voz.es.ssml' ) )"
   ]
  },
  {
   "cell_type": "markdown",
   "metadata": {},
   "source": [
    "### Respirar"
   ]
  },
  {
   "cell_type": "code",
   "execution_count": null,
   "metadata": {},
   "outputs": [],
   "source": [
    "ssml = \"\"\"\n",
    "<speak>\n",
    "     Con grandes poderes<amazon:breath duration=\"short\" volume=\"x-loud\"/>\n",
    "     vienen grandes responsabilidades\n",
    "</speak>\n",
    "\"\"\"\n",
    "sintetiza(ssml)"
   ]
  },
  {
   "cell_type": "code",
   "execution_count": null,
   "metadata": {},
   "outputs": [],
   "source": [
    "ssml = \"\"\"\n",
    "<speak>\n",
    "   <amazon:auto-breaths>\n",
    "Un Anillo para gobernarlos a todos. Un Anillo para encontrarlos,\n",
    "un Anillo para atraerlos a todos y atarlos en las tinieblas.\n",
    "\n",
    "En los días posteriores a la batalla de los Campos del Pelennor, \n",
    "Gandalf aconsejó lanzar un ataque directo a Mordor, para vaciarlo \n",
    "de las tropas allí acampadas y desviar la atención de Sauron de la llegada de Frodo y Sam.\n",
    "   </amazon:auto-breaths>\n",
    "</speak>\n",
    "\"\"\"\n",
    "sintetiza(ssml)"
   ]
  },
  {
   "cell_type": "markdown",
   "metadata": {
    "collapsed": true
   },
   "source": [
    "# Hack the following code and use the latest feature (Timbre)\n",
    "http://docs.aws.amazon.com/polly/latest/dg/supported-ssml.html#vocaltractlength-tag\n"
   ]
  },
  {
   "cell_type": "code",
   "execution_count": null,
   "metadata": {},
   "outputs": [],
   "source": [
    "# English voices: F(Joanna Salli Kimberly Kendra Ivy Matthew) M(Justin Joey)\n",
    "# Spanish voices: F(Penelope) M(Miguel)\n",
    "# Portuguese voices: F(Vitoria) M(Ricardo)\n",
    "ssml = \"\"\"\n",
    "<speak>\n",
    " your text  <amazon:effect vocal-tract-length=\"+15%\"> with the effect effect effect </amazon:effect> here\n",
    "</speak>\n",
    "\"\"\"\n",
    "sintetiza(ssml, voiceid='Ivy')"
   ]
  }
 ],
 "metadata": {
  "kernelspec": {
   "display_name": "conda_python2",
   "language": "python",
   "name": "conda_python2"
  },
  "language_info": {
   "codemirror_mode": {
    "name": "ipython",
    "version": 2
   },
   "file_extension": ".py",
   "mimetype": "text/x-python",
   "name": "python",
   "nbconvert_exporter": "python",
   "pygments_lexer": "ipython2",
   "version": "2.7.11"
  }
 },
 "nbformat": 4,
 "nbformat_minor": 2
}
