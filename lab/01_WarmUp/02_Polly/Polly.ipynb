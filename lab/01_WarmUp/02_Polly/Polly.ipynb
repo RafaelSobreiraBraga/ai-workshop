{
 "cells": [
  {
   "cell_type": "markdown",
   "metadata": {},
   "source": [
    "## Demonstração do serviço de texto para fala (Speech to text) Amazon Polly\n",
    "\n",
    "\n",
    "Aqui você verá um resumo das funcionalidades que a Polly possui. \n",
    "O texto de entrada do serviço pode ser puro ou no formato SSML. O formato SSML é uma marcação de texto padrão W3C. Esse padrão serve para descrever a forma com que um dado texto deve ser 'lido' pelo sintetizador. Com os exemplos abaixo ficará mais claro como usar esse formato.\n",
    "\n",
    "Obs.: Todo o conteúdo está em Português.\n",
    "\n",
    "Então vamos lá!"
   ]
  },
  {
   "cell_type": "code",
   "execution_count": null,
   "metadata": {},
   "outputs": [],
   "source": [
    "# Make sure you've installed boto3 version >=1.4.8\n",
    "!conda upgrade --yes boto3"
   ]
  },
  {
   "cell_type": "code",
   "execution_count": null,
   "metadata": {
    "collapsed": true
   },
   "outputs": [],
   "source": [
    "import boto3\n",
    "import numpy as np\n",
    "import base64\n",
    "import os\n",
    "import time\n",
    "\n",
    "from io import BytesIO\n",
    "from IPython.core.display import display, HTML, Javascript, display_javascript"
   ]
  },
  {
   "cell_type": "code",
   "execution_count": null,
   "metadata": {
    "collapsed": true
   },
   "outputs": [],
   "source": [
    "err_message = \"Try shutdown your kernel and start it again. It seems an old version was cached\"\n",
    "assert boto3.__version__ >= \"1.4.8\", err_message"
   ]
  },
  {
   "cell_type": "markdown",
   "metadata": {},
   "source": [
    "Depois de importar as bibliotecas, vamos criar um cliente para a Polly e um mixer. O Mixer será utilizado para a reprodução do áudio retornado pela Polly."
   ]
  },
  {
   "cell_type": "code",
   "execution_count": null,
   "metadata": {
    "collapsed": true
   },
   "outputs": [],
   "source": [
    "client = boto3.client('polly')\n"
   ]
  },
  {
   "cell_type": "code",
   "execution_count": null,
   "metadata": {},
   "outputs": [],
   "source": [
    "html = \"\"\"\n",
    "<script src=\"https://ajax.googleapis.com/ajax/libs/jquery/3.2.1/jquery.min.js\"></script>\n",
    "<audio id=\"audio\"><source id=\"media\" src=\"audio.mp3\" type=\"audio/mpeg\" /></audio>\n",
    "<script type=\"text/javascript\">    \n",
    "    function play_audio(){\n",
    "        $(\"#audio\")[0].load();\n",
    "        $(\"#audio\")[0].play();\n",
    "    } // play_audio\n",
    "</script>\n",
    "\"\"\"\n",
    "HTML(html)"
   ]
  },
  {
   "cell_type": "markdown",
   "metadata": {},
   "source": [
    "Agora vamos definir algumas funções auxiliares para:\n",
    "- tocar um streaming de áudio\n",
    "- sintetizar a fala a partir de um arquivo SSML\n",
    "- carregar um arquivo do disco"
   ]
  },
  {
   "cell_type": "code",
   "execution_count": null,
   "metadata": {
    "collapsed": true
   },
   "outputs": [],
   "source": [
    "def play_audio(audiostream):\n",
    "    audio = open('audio.mp3', 'wb+')\n",
    "    audio.write(audiostream.read())\n",
    "    audio.flush()\n",
    "    audio.close()\n",
    "    \n",
    "    jso = Javascript('play_audio()')\n",
    "    display_javascript(jso)"
   ]
  },
  {
   "cell_type": "code",
   "execution_count": null,
   "metadata": {
    "collapsed": true
   },
   "outputs": [],
   "source": [
    "def sintetiza(ssml, lexicons=[], voiceid='Ricardo' ):\n",
    "    if os.path.isfile('audio.mp3'):\n",
    "        os.remove('audio.mp3') \n",
    "    response = client.synthesize_speech(\n",
    "        LexiconNames=lexicons,\n",
    "        OutputFormat='mp3',\n",
    "        SampleRate='22050',\n",
    "        Text=ssml,\n",
    "        TextType='ssml',\n",
    "        VoiceId=voiceid\n",
    "    )\n",
    "    play_audio( response['AudioStream'] )\n",
    "    print(ssml)"
   ]
  },
  {
   "cell_type": "code",
   "execution_count": null,
   "metadata": {
    "collapsed": true
   },
   "outputs": [],
   "source": [
    "def load_file( filename ):\n",
    "    return \"\".join( open( filename, 'r').readlines() )"
   ]
  },
  {
   "cell_type": "markdown",
   "metadata": {},
   "source": [
    "Ok. Agora vamos fazer um breve teste de leitura. Note as tags &lt;speak&gt; e &lt;p&gt;. Elas fazem parte do padrão SSML."
   ]
  },
  {
   "cell_type": "code",
   "execution_count": null,
   "metadata": {},
   "outputs": [],
   "source": [
    "sintetiza( load_file( 'poema.ssml' ) )"
   ]
  },
  {
   "cell_type": "markdown",
   "metadata": {
    "collapsed": true
   },
   "source": [
    "### Tags SSML suportadas pela Polly\n",
    "http://docs.aws.amazon.com/polly/latest/dg/supported-ssml.html\n",
    " - &lt;break&gt;: Intervalo em seg ou mili\n",
    " - &lt;lang&gt;: Corrige pronúncia de um estrangeirismo\n",
    " - &lt;mark&gt;: Adiciona marcações no texto, sem alterar a reprodução\n",
    " - &lt;p&gt;: Configura um novo parágrafo com uma pausa.\n",
    " - &lt;phoneme&gt;: Interpreta fonemas\n",
    " - &lt;prosody&gt;: Regula a cadência da fala: velocidade, entonação, etc\n",
    " - &lt;s&gt;: Dá uma pausa após ler a sentença\n",
    " - &lt;say-as&gt;: Muda a forma de se ler um texto: hora, telefone, etc\n",
    " - &lt;sub&gt;: Substitui um termo por uma sentença\n",
    " - &lt;w&gt;: Altera a pronúncia de uma palavra\n",
    " - &lt;amazon:effect name=\"whispered\"&gt;: Sussurrar\n",
    " - &lt;amazon:effect name=\"drc\"&gt;: Realçar som\n",
    "\n",
    "\n"
   ]
  },
  {
   "cell_type": "markdown",
   "metadata": {},
   "source": [
    "### P & Lang"
   ]
  },
  {
   "cell_type": "code",
   "execution_count": null,
   "metadata": {},
   "outputs": [],
   "source": [
    "sintetiza( load_file( 'lang.ssml' ) )"
   ]
  },
  {
   "cell_type": "markdown",
   "metadata": {
    "collapsed": true
   },
   "source": [
    "## Break"
   ]
  },
  {
   "cell_type": "code",
   "execution_count": null,
   "metadata": {},
   "outputs": [],
   "source": [
    "sintetiza( load_file( 'break.ssml' ) )"
   ]
  },
  {
   "cell_type": "markdown",
   "metadata": {},
   "source": [
    "## Say as"
   ]
  },
  {
   "cell_type": "code",
   "execution_count": null,
   "metadata": {},
   "outputs": [],
   "source": [
    "sintetiza( load_file( 'sayas.ssml' ) )"
   ]
  },
  {
   "cell_type": "markdown",
   "metadata": {},
   "source": [
    "## Lexicons"
   ]
  },
  {
   "cell_type": "markdown",
   "metadata": {},
   "source": [
    "#### Carrega o arquivo de lexicons"
   ]
  },
  {
   "cell_type": "code",
   "execution_count": null,
   "metadata": {},
   "outputs": [],
   "source": [
    "acronimos = load_file( 'lexicons.pls' )\n",
    "print(acronimos)\n",
    "response = client.put_lexicon(\n",
    "    Name='acronimos',\n",
    "    Content=acronimos\n",
    ")"
   ]
  },
  {
   "cell_type": "code",
   "execution_count": null,
   "metadata": {
    "collapsed": true
   },
   "outputs": [],
   "source": [
    "sotaques = {\n",
    "    'uai': 'uai.pls',\n",
    "    'tche': 'tche.pls',\n",
    "    'meu': 'meu.pls'\n",
    "}\n",
    "for nome, nome_arquivo in sotaques.items():\n",
    "    response = client.put_lexicon(\n",
    "        Name=nome,\n",
    "        Content=load_file( nome_arquivo )\n",
    "    )"
   ]
  },
  {
   "cell_type": "code",
   "execution_count": null,
   "metadata": {},
   "outputs": [],
   "source": [
    "sintetiza( load_file( 'lexicon.ssml' ) )"
   ]
  },
  {
   "cell_type": "code",
   "execution_count": null,
   "metadata": {},
   "outputs": [],
   "source": [
    "sintetiza( load_file( 'lexicon.ssml' ), [ 'acronimos'] )"
   ]
  },
  {
   "cell_type": "code",
   "execution_count": null,
   "metadata": {},
   "outputs": [],
   "source": [
    "sintetiza( load_file( 'agua.ssml' ), [ 'acronimos'] )"
   ]
  },
  {
   "cell_type": "markdown",
   "metadata": {},
   "source": [
    "#### Mineirês"
   ]
  },
  {
   "cell_type": "code",
   "execution_count": null,
   "metadata": {},
   "outputs": [],
   "source": [
    "sintetiza( load_file( 'lexicon_sotaques.ssml' ), [ 'uai'] )"
   ]
  },
  {
   "cell_type": "markdown",
   "metadata": {},
   "source": [
    "#### Paulistês"
   ]
  },
  {
   "cell_type": "code",
   "execution_count": null,
   "metadata": {},
   "outputs": [],
   "source": [
    "sintetiza( load_file( 'lexicon_sotaques.ssml' ), [ 'meu'] )"
   ]
  },
  {
   "cell_type": "markdown",
   "metadata": {},
   "source": [
    "#### Gauchês"
   ]
  },
  {
   "cell_type": "code",
   "execution_count": null,
   "metadata": {},
   "outputs": [],
   "source": [
    "sintetiza( load_file( 'lexicon_sotaques.ssml' ), [ 'tche'] )"
   ]
  },
  {
   "cell_type": "markdown",
   "metadata": {},
   "source": [
    "### Sussurrar & gritar"
   ]
  },
  {
   "cell_type": "code",
   "execution_count": null,
   "metadata": {},
   "outputs": [],
   "source": [
    "sintetiza( load_file( 'alteracao_voz.ssml' ) )"
   ]
  },
  {
   "cell_type": "markdown",
   "metadata": {},
   "source": [
    "### Breath"
   ]
  },
  {
   "cell_type": "code",
   "execution_count": null,
   "metadata": {},
   "outputs": [],
   "source": [
    "ssml = \"\"\"\n",
    "<speak>\n",
    "     Um ninho de mafagafos tem cinco mafagafinhos.<amazon:breath duration=\"short\" volume=\"x-loud\"/>\n",
    "     Quem desmafagafizar os mafagafos bom desmafagafizador será.\n",
    "</speak>\n",
    "\"\"\"\n",
    "sintetiza(ssml, voiceid='Ricardo')"
   ]
  },
  {
   "cell_type": "code",
   "execution_count": null,
   "metadata": {},
   "outputs": [],
   "source": [
    "ssml = \"\"\"\n",
    "<speak>\n",
    "   <amazon:auto-breaths>\n",
    "Um Anel para a todos governar, Um Anel para encontrá-los, \n",
    "Um Anel para a todos trazer e na escuridão aprisioná-los. \n",
    "Na Terra de Mordor onde as Sombras se deitam.\" \n",
    "Por causa desse poema, muitas vezes os Anéis são referidos apenas como os Três, os Sete e os Nove, \n",
    "assim como o Anel de Sauron, chamado de o Um.\n",
    "   </amazon:auto-breaths>\n",
    "</speak>\n",
    "\"\"\"\n",
    "sintetiza(ssml, voiceid='Ricardo')"
   ]
  },
  {
   "cell_type": "markdown",
   "metadata": {
    "collapsed": true
   },
   "source": [
    "# Hack the following code and use the latest feature (Timbre)\n",
    "http://docs.aws.amazon.com/polly/latest/dg/supported-ssml.html#vocaltractlength-tag\n"
   ]
  },
  {
   "cell_type": "code",
   "execution_count": null,
   "metadata": {},
   "outputs": [],
   "source": [
    "# English voices: F(Joanna Salli Kimberly Kendra Ivy Matthew) M(Justin Joey)\n",
    "# Spanish voices: F(Penelope) M(Miguel)\n",
    "# Portuguese voices: F(Vitoria) M(Ricardo)\n",
    "ssml = \"\"\"\n",
    "<speak>\n",
    " your text  <amazon:effect vocal-tract-length=\"+15%\"> with the effect effect effect </amazon:effect> here\n",
    "</speak>\n",
    "\"\"\"\n",
    "sintetiza(ssml, voiceid='Ivy')"
   ]
  },
  {
   "cell_type": "code",
   "execution_count": null,
   "metadata": {
    "collapsed": true
   },
   "outputs": [],
   "source": []
  }
 ],
 "metadata": {
  "kernelspec": {
   "display_name": "conda_python2",
   "language": "python",
   "name": "conda_python2"
  },
  "language_info": {
   "codemirror_mode": {
    "name": "ipython",
    "version": 2
   },
   "file_extension": ".py",
   "mimetype": "text/x-python",
   "name": "python",
   "nbconvert_exporter": "python",
   "pygments_lexer": "ipython2",
   "version": "2.7.11"
  }
 },
 "nbformat": 4,
 "nbformat_minor": 2
}
