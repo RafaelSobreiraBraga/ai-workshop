{
 "cells": [
  {
   "cell_type": "markdown",
   "metadata": {},
   "source": [
    "# Demonstração das funcionalidades do Amazon Rekognition\n",
    "\n",
    "Author: Samir Araújo\n",
    "\n",
    "https://aws.amazon.com/pt/rekognition/\n",
    "O Amazon Rekognition é um serviço gerenciado para reconhecimento de imagens. Ele possui diversas funcionalidades como detecção de faces, extração de labels, etc. As suas principais funcionalidades serão apresentadas neste Notebook.\n",
    "\n",
    "A API em Python boto3 foi utilizada nesta demonstração. Para maiores inforações sobre essa API, consulte:\n",
    "http://boto3.readthedocs.io/en/latest/reference/services/rekognition.html#Rekognition.Client.detect_labels"
   ]
  },
  {
   "cell_type": "code",
   "execution_count": null,
   "metadata": {
    "collapsed": true
   },
   "outputs": [],
   "source": [
    "# Make sure you've installed boto3 version 1.4.8\n",
    "!conda install --yes boto3==1.4.8"
   ]
  },
  {
   "cell_type": "code",
   "execution_count": null,
   "metadata": {
    "collapsed": true
   },
   "outputs": [],
   "source": [
    "%matplotlib inline\n",
    "\n",
    "# Importando as bibliotecas necessarias nesta demonstracao\n",
    "import boto3\n",
    "import numpy as np\n",
    "import pandas as pd\n",
    "import matplotlib.pyplot as plt\n",
    "\n",
    "from PIL import Image, ImageDraw\n",
    "from IPython.display import Markdown\n",
    "from notebook import notebookapp"
   ]
  },
  {
   "cell_type": "code",
   "execution_count": null,
   "metadata": {
    "collapsed": true
   },
   "outputs": [],
   "source": [
    "err_message = \"Try shutdown your kernel and start it again. It seems an old version was cached\"\n",
    "assert boto3.__version__ == \"1.4.8\", err_message"
   ]
  },
  {
   "cell_type": "code",
   "execution_count": null,
   "metadata": {
    "collapsed": true
   },
   "outputs": [],
   "source": [
    "## Atencao: As credenciais de acesso estao configuradas direto na maquina\n",
    "## que esta executando este programa. Consulte a documentacao da API (link no cabecalho)\n",
    "## para voce entender como passar suas credenciais ao cliente \n",
    "\n",
    "## Aqui vamos criar o client do Rekognition. \n",
    "client = boto3.client('rekognition')\n",
    "base_path = '/files/workshop/01_Rekognition'"
   ]
  },
  {
   "cell_type": "markdown",
   "metadata": {},
   "source": [
    "## Definição de funções utilitárias básicas"
   ]
  },
  {
   "cell_type": "code",
   "execution_count": null,
   "metadata": {
    "collapsed": true
   },
   "outputs": [],
   "source": [
    "# Le uma imagem do disco e a converte para um array de bytes\n",
    "def load_image(filename):\n",
    "    with open(filename, \"rb\") as imageFile:\n",
    "      f = imageFile.read()\n",
    "      return bytearray(f)"
   ]
  },
  {
   "cell_type": "code",
   "execution_count": null,
   "metadata": {
    "collapsed": true
   },
   "outputs": [],
   "source": [
    "# Converte um array para um DataFrame pandas\n",
    "def convert_to_dataframe(labels):\n",
    "    data = { 'Label': [], 'Confidence': [] }\n",
    "\n",
    "    for label in labels:\n",
    "        data['Label'].append( label['Name'] )\n",
    "        data['Confidence'].append( label['Confidence'] )\n",
    "\n",
    "    return pd.DataFrame( data )[ ['Label', 'Confidence'] ]"
   ]
  },
  {
   "cell_type": "code",
   "execution_count": null,
   "metadata": {
    "collapsed": true
   },
   "outputs": [],
   "source": [
    "# Invoca o Rekognition para extrair as labels de uma imagem\n",
    "def get_labels(filename):\n",
    "    response = client.detect_labels(\n",
    "        Image={'Bytes': load_image(filename)},\n",
    "        MaxLabels=5,\n",
    "        MinConfidence=50\n",
    "    )\n",
    "    return convert_to_dataframe(response['Labels'])"
   ]
  },
  {
   "cell_type": "code",
   "execution_count": null,
   "metadata": {
    "collapsed": true
   },
   "outputs": [],
   "source": [
    "# Invoca o Rekognition para extrair as labels de moderacao de uma imagem\n",
    "def get_moderation_labels(filename):\n",
    "    response = client.detect_moderation_labels(\n",
    "        Image={ 'Bytes': load_image(filename) },\n",
    "        MinConfidence=50\n",
    "    )\n",
    "    return convert_to_dataframe(response['ModerationLabels'])"
   ]
  },
  {
   "cell_type": "code",
   "execution_count": null,
   "metadata": {
    "collapsed": true
   },
   "outputs": [],
   "source": [
    "# Converte uma bounding box retornada para um retangulo\n",
    "def create_bounding_box(bbox, size):\n",
    "    if len(bbox) != 4:\n",
    "        return None\n",
    "    return [ \n",
    "        bbox['Left'] * size[0], bbox['Top'] * size[1],\n",
    "        (bbox['Left'] * size[0]) + bbox['Width'] * size[0], \n",
    "        (bbox['Top'] * size[1]) + bbox['Height'] * size[1]\n",
    "    ]"
   ]
  },
  {
   "cell_type": "code",
   "execution_count": null,
   "metadata": {
    "collapsed": true
   },
   "outputs": [],
   "source": [
    "# Invoca o Rekognition para reconhecer celebridades numa foto\n",
    "def recognize_celebrity(filename):\n",
    "    response = client.recognize_celebrities(\n",
    "        Image={'Bytes': load_image(filename)}\n",
    "    )\n",
    "    img = Image.open(filename)\n",
    "    if len(response['CelebrityFaces']) == 0:\n",
    "        return (None, None, None)\n",
    "    \n",
    "    bbox = create_bounding_box( response['CelebrityFaces'][0]['Face']['BoundingBox'], img.size )\n",
    "    confidence = response['CelebrityFaces'][0]['Face']['Confidence']\n",
    "    name = response['CelebrityFaces'][0]['Name']\n",
    "    \n",
    "    return (name, confidence, bbox )"
   ]
  },
  {
   "cell_type": "code",
   "execution_count": null,
   "metadata": {
    "collapsed": true
   },
   "outputs": [],
   "source": [
    "# Desenha uma Bounding Box numa foto\n",
    "def draw_bounding_box(filename, bbox):\n",
    "    img = Image.open(filename)\n",
    "\n",
    "    draw = ImageDraw.Draw(img)\n",
    "    draw.line([(bbox[0], bbox[1]), (bbox[2], bbox[1])], fill='yellow', width=4)\n",
    "    draw.line([(bbox[2], bbox[1]), (bbox[2], bbox[3])], fill='yellow', width=4)\n",
    "    draw.line([(bbox[2], bbox[3]), (bbox[0], bbox[3])], fill='yellow', width=4)\n",
    "    draw.line([(bbox[0], bbox[1]), (bbox[0], bbox[3])], fill='yellow', width=4)\n",
    "    del draw\n",
    "    plt.imshow(img)"
   ]
  },
  {
   "cell_type": "code",
   "execution_count": null,
   "metadata": {
    "collapsed": true
   },
   "outputs": [],
   "source": [
    "# Detecta uma face na foto e suas caracteristicas\n",
    "def detect_face(filename):\n",
    "    response = client.detect_faces(\n",
    "        Image={'Bytes': load_image(filename)},\n",
    "        Attributes=['ALL']\n",
    "    )\n",
    "    if len(response['FaceDetails']) == 0:\n",
    "        return None\n",
    "    img = Image.open(filename)\n",
    "    metadata = response['FaceDetails'][0]\n",
    "    confidence = metadata['Confidence']\n",
    "    bbox = create_bounding_box( metadata['BoundingBox'], img.size )\n",
    "    labels = []\n",
    "    for label in ('Smile', 'Eyeglasses', 'Sunglasses', 'Gender', 'Beard', 'Mustache', 'EyesOpen', 'MouthOpen'):\n",
    "        labels.append( {'Name': label + \"({})\".format( metadata[label]['Value']), 'Confidence': metadata[label]['Confidence'] } )\n",
    "    for emo in metadata['Emotions']:\n",
    "        labels.append( {'Name': emo['Type'], 'Confidence': emo['Confidence'] } )\n",
    "    return ( confidence, bbox, convert_to_dataframe(labels) )"
   ]
  },
  {
   "cell_type": "code",
   "execution_count": null,
   "metadata": {
    "collapsed": true
   },
   "outputs": [],
   "source": [
    "# Compara a semelhanca entre duas faces\n",
    "def compare_faces(filenameA, filenameB):\n",
    "    response = client.compare_faces(\n",
    "        SourceImage={'Bytes': load_image( filenameA )},\n",
    "        TargetImage={'Bytes': load_image( filenameB )}\n",
    "    )\n",
    "    if len(response['FaceMatches']) == 0:\n",
    "        return ( None, None, None)\n",
    "    imgA = Image.open(filenameA)\n",
    "    imgB = Image.open(filenameB)\n",
    "    \n",
    "    similarity = response['FaceMatches'][0]['Similarity']\n",
    "    bboxA = create_bounding_box( response['SourceImageFace']['BoundingBox'], imgA.size )\n",
    "    bboxB = create_bounding_box( response['FaceMatches'][0]['Face']['BoundingBox'], imgB.size )\n",
    "    return (similarity, bboxA, bboxB )"
   ]
  },
  {
   "cell_type": "markdown",
   "metadata": {},
   "source": [
    "## Detecção de objetos e cenas - client.detect_labels()"
   ]
  },
  {
   "cell_type": "code",
   "execution_count": null,
   "metadata": {
    "collapsed": true
   },
   "outputs": [],
   "source": [
    "Markdown(\"![](%s/mosh_thumb.jpg)\" % base_path )"
   ]
  },
  {
   "cell_type": "code",
   "execution_count": null,
   "metadata": {
    "collapsed": true
   },
   "outputs": [],
   "source": [
    "get_labels( 'mosh.jpg' )"
   ]
  },
  {
   "cell_type": "code",
   "execution_count": null,
   "metadata": {
    "collapsed": true
   },
   "outputs": [],
   "source": [
    "Markdown(\"![](%s/pandas_thumb.jpg)\" % base_path )"
   ]
  },
  {
   "cell_type": "code",
   "execution_count": null,
   "metadata": {
    "collapsed": true
   },
   "outputs": [],
   "source": [
    "get_labels( 'pandas.jpg' )"
   ]
  },
  {
   "cell_type": "code",
   "execution_count": null,
   "metadata": {
    "collapsed": true
   },
   "outputs": [],
   "source": [
    "Markdown(\"![](%s/darth_thumb.jpg)\" % base_path )"
   ]
  },
  {
   "cell_type": "code",
   "execution_count": null,
   "metadata": {
    "collapsed": true
   },
   "outputs": [],
   "source": [
    "get_labels( 'darth.jpg' )"
   ]
  },
  {
   "cell_type": "code",
   "execution_count": null,
   "metadata": {
    "collapsed": true
   },
   "outputs": [],
   "source": [
    "Markdown(\"![](%s/robots2_thumb.jpg)\" % base_path)"
   ]
  },
  {
   "cell_type": "code",
   "execution_count": null,
   "metadata": {
    "collapsed": true
   },
   "outputs": [],
   "source": [
    "get_labels( 'robots2.jpg' )"
   ]
  },
  {
   "cell_type": "markdown",
   "metadata": {},
   "source": [
    "## Detecção de conteúdo sugestivo + moderação - client.detect_moderation_labels()"
   ]
  },
  {
   "cell_type": "code",
   "execution_count": null,
   "metadata": {
    "collapsed": true
   },
   "outputs": [],
   "source": [
    "Markdown(\"![](%s/voley_thumb.jpg)\" % base_path)"
   ]
  },
  {
   "cell_type": "code",
   "execution_count": null,
   "metadata": {
    "collapsed": true
   },
   "outputs": [],
   "source": [
    "get_moderation_labels( 'voley.jpg' )"
   ]
  },
  {
   "cell_type": "markdown",
   "metadata": {},
   "source": [
    "### Agora vamos combinar moderação com detecção de objetos"
   ]
  },
  {
   "cell_type": "code",
   "execution_count": null,
   "metadata": {
    "collapsed": true
   },
   "outputs": [],
   "source": [
    "labels = pd.concat([ get_moderation_labels( 'voley.jpg' ), get_labels( 'voley.jpg' ) ], ignore_index=True)\n",
    "labels.sort_values(['Confidence'], ascending=False)"
   ]
  },
  {
   "cell_type": "markdown",
   "metadata": {},
   "source": [
    "## Reconhecimento de celebridades - client.recognize_celebrities()"
   ]
  },
  {
   "cell_type": "code",
   "execution_count": null,
   "metadata": {
    "collapsed": true
   },
   "outputs": [],
   "source": [
    "Markdown(\"![](%s/silvio_thumb.jpg)\" % base_path)"
   ]
  },
  {
   "cell_type": "code",
   "execution_count": null,
   "metadata": {
    "collapsed": true
   },
   "outputs": [],
   "source": [
    "(name, confidence, bbox) = recognize_celebrity( 'silvio.jpg' )\n",
    "print( name, confidence )\n",
    "draw_bounding_box('silvio.jpg', bbox )"
   ]
  },
  {
   "cell_type": "code",
   "execution_count": null,
   "metadata": {
    "collapsed": true
   },
   "outputs": [],
   "source": [
    "Markdown(\"![](%s/machida_thumb.jpg)\"  % base_path)"
   ]
  },
  {
   "cell_type": "code",
   "execution_count": null,
   "metadata": {
    "collapsed": true
   },
   "outputs": [],
   "source": [
    "(name, confidence, bbox) = recognize_celebrity( 'machida.jpg' )\n",
    "print( name, confidence )\n",
    "if bbox: draw_bounding_box('machida.jpg', bbox )"
   ]
  },
  {
   "cell_type": "markdown",
   "metadata": {},
   "source": [
    "## Detecção de face - client.detect_face()"
   ]
  },
  {
   "cell_type": "code",
   "execution_count": null,
   "metadata": {
    "collapsed": true
   },
   "outputs": [],
   "source": [
    "Markdown(\"![](%s/wesley_thumb.png)\" % base_path)"
   ]
  },
  {
   "cell_type": "code",
   "execution_count": null,
   "metadata": {
    "collapsed": true
   },
   "outputs": [],
   "source": [
    "(confidence, bbox, labels) = detect_face('wesley.png')\n",
    "print( 'Confiança que encontrei uma face: {}'.format( confidence ) )\n",
    "if bbox: draw_bounding_box('wesley.png', bbox )"
   ]
  },
  {
   "cell_type": "code",
   "execution_count": null,
   "metadata": {
    "collapsed": true
   },
   "outputs": [],
   "source": [
    "labels"
   ]
  },
  {
   "cell_type": "markdown",
   "metadata": {},
   "source": [
    "## Comparação de Faces em duas imagens - client.compare_faces()"
   ]
  },
  {
   "cell_type": "markdown",
   "metadata": {
    "collapsed": true
   },
   "source": [
    "### Foto de origem"
   ]
  },
  {
   "cell_type": "code",
   "execution_count": null,
   "metadata": {
    "collapsed": true
   },
   "outputs": [],
   "source": [
    "Markdown(\"![](%s/ju_paes_thumb.jpg)\" % base_path)"
   ]
  },
  {
   "cell_type": "markdown",
   "metadata": {},
   "source": [
    "### Foto que desejamos procurar o rosto acima"
   ]
  },
  {
   "cell_type": "code",
   "execution_count": null,
   "metadata": {
    "collapsed": true
   },
   "outputs": [],
   "source": [
    "Markdown(\"![](%s/ju_we_em_thumb.jpg)\" % base_path)"
   ]
  },
  {
   "cell_type": "code",
   "execution_count": null,
   "metadata": {
    "collapsed": true
   },
   "outputs": [],
   "source": [
    "(similarity, bboxA, bboxB) = compare_faces('ju_paes.jpg', 'ju_we_em.jpg')\n",
    "print( 'Similarity: {}'.format( similarity ) )"
   ]
  },
  {
   "cell_type": "code",
   "execution_count": null,
   "metadata": {
    "collapsed": true
   },
   "outputs": [],
   "source": [
    "if bboxA: draw_bounding_box('ju_paes.jpg', bboxA )"
   ]
  },
  {
   "cell_type": "code",
   "execution_count": null,
   "metadata": {
    "collapsed": true
   },
   "outputs": [],
   "source": [
    "if bboxB: draw_bounding_box('ju_we_em.jpg', bboxB )"
   ]
  },
  {
   "cell_type": "markdown",
   "metadata": {},
   "source": [
    "## Busca de faces em uma coleção - client.search_faces()\n",
    "### Collection ID: Funcionarios"
   ]
  },
  {
   "cell_type": "code",
   "execution_count": null,
   "metadata": {
    "collapsed": true
   },
   "outputs": [],
   "source": [
    "try:\n",
    "    response = client.delete_collection(\n",
    "        CollectionId='Funcionarios'\n",
    "    )\n",
    "except Exception as e:\n",
    "    print(e)"
   ]
  },
  {
   "cell_type": "code",
   "execution_count": null,
   "metadata": {},
   "outputs": [],
   "source": [
    "try:\n",
    "    response = client.create_collection(\n",
    "        CollectionId='Funcionarios'\n",
    "    )\n",
    "    faces = {\n",
    "        'Glenn': 'coll_glenn.png',\n",
    "        'Rick': 'coll_rick.jpg',\n",
    "        'Michonne': 'coll_michonne.jpg',\n",
    "        'Negan': 'coll_negan.jpg',\n",
    "        'Turma': 'coll_turma.jpg'\n",
    "    }\n",
    "    for ext_id, image_name in faces.items():\n",
    "        response = client.index_faces(\n",
    "            CollectionId='Funcionarios',\n",
    "            Image={ 'Bytes': load_image( image_name ) },\n",
    "            ExternalImageId=ext_id,\n",
    "        )\n",
    "except Exception as e:\n",
    "    print(e)\n",
    "    \n"
   ]
  },
  {
   "cell_type": "code",
   "execution_count": null,
   "metadata": {
    "collapsed": true
   },
   "outputs": [],
   "source": [
    "faces = {}\n",
    "bboxes = {}\n",
    "counter = 1\n",
    "for face in client.list_faces( CollectionId='Funcionarios', MaxResults=20 )['Faces']:\n",
    "    if faces.get( face['ExternalImageId'] ) == None: \n",
    "        faces[ face['ExternalImageId'] ] = []\n",
    "    faces[ face['ExternalImageId'] ].append( face['FaceId'] )\n",
    "    bboxes[ face['ExternalImageId'] ] = face['BoundingBox']\n",
    "    counter += 1"
   ]
  },
  {
   "cell_type": "code",
   "execution_count": null,
   "metadata": {},
   "outputs": [],
   "source": [
    "print( \"FaceId: {}\".format( faces['Glenn'][0] ) )\n",
    "img = Image.open( 'coll_glenn.png' )\n",
    "draw_bounding_box('coll_glenn.png', create_bounding_box( bboxes['Glenn'], img.size ) )"
   ]
  },
  {
   "cell_type": "code",
   "execution_count": null,
   "metadata": {},
   "outputs": [],
   "source": [
    "print( \"FaceId: {}\".format( faces['Rick'][0] ) )\n",
    "img = Image.open( 'coll_rick.jpg' )\n",
    "draw_bounding_box('coll_rick.jpg', create_bounding_box( bboxes['Rick'], img.size ) )"
   ]
  },
  {
   "cell_type": "code",
   "execution_count": null,
   "metadata": {},
   "outputs": [],
   "source": [
    "print( \"FaceId: {}\".format( faces['Michonne'][0] ) )\n",
    "img = Image.open( 'coll_michonne.jpg' )\n",
    "draw_bounding_box('coll_michonne.jpg', create_bounding_box( bboxes['Michonne'], img.size ) )"
   ]
  },
  {
   "cell_type": "code",
   "execution_count": null,
   "metadata": {},
   "outputs": [],
   "source": [
    "print( \"FaceId: {}\".format( faces['Negan'][0] ) )\n",
    "img = Image.open( 'coll_negan.jpg' )\n",
    "draw_bounding_box('coll_negan.jpg', create_bounding_box( bboxes['Negan'], img.size ) )"
   ]
  },
  {
   "cell_type": "code",
   "execution_count": null,
   "metadata": {},
   "outputs": [],
   "source": [
    "Markdown(\"![](%s/coll_turma_thumb.jpg)\" % base_path)"
   ]
  },
  {
   "cell_type": "code",
   "execution_count": null,
   "metadata": {},
   "outputs": [],
   "source": [
    "face_counter = 1\n",
    "for faceid in faces['Turma']:\n",
    "    print( \"FaceId{}: {}\".format( face_counter, faceid ) )\n",
    "    face_counter += 1"
   ]
  },
  {
   "cell_type": "markdown",
   "metadata": {},
   "source": [
    "### Procurando a Michonne na coleção - client.search_faces()"
   ]
  },
  {
   "cell_type": "code",
   "execution_count": null,
   "metadata": {},
   "outputs": [],
   "source": [
    "id_michonne = faces['Michonne'][0]\n",
    "metadata = client.search_faces(\n",
    "    CollectionId='Funcionarios',\n",
    "    FaceId=id_michonne,\n",
    "    MaxFaces=20\n",
    ")['FaceMatches'][0]\n",
    "print( 'Similarity: {}'.format( metadata['Similarity'] ) )\n",
    "img = Image.open( 'coll_turma.jpg' )\n",
    "draw_bounding_box('coll_turma.jpg', create_bounding_box( metadata['Face']['BoundingBox'], img.size ) )"
   ]
  },
  {
   "cell_type": "markdown",
   "metadata": {},
   "source": [
    "### Procurando o Glenn na coleção, através de uma outra foto - client.search_faces_by_image()"
   ]
  },
  {
   "cell_type": "code",
   "execution_count": null,
   "metadata": {},
   "outputs": [],
   "source": [
    "Markdown(\"![](%s/coll_glenn2_thumb.jpg)\" % base_path)"
   ]
  },
  {
   "cell_type": "code",
   "execution_count": null,
   "metadata": {},
   "outputs": [],
   "source": [
    "faces = client.search_faces_by_image(\n",
    "    CollectionId='Funcionarios',\n",
    "    Image={ 'Bytes': load_image( 'coll_glenn2.jpg') },\n",
    "    MaxFaces=20\n",
    ")['FaceMatches']\n",
    "print( '# fotos encontradas na coleção: {}'.format( len(faces)))"
   ]
  },
  {
   "cell_type": "code",
   "execution_count": null,
   "metadata": {},
   "outputs": [],
   "source": [
    "print( 'Similarity: {}'.format( faces[0]['Similarity'] ) )\n",
    "img = Image.open( 'coll_glenn.png' )\n",
    "draw_bounding_box('coll_glenn.png', create_bounding_box( faces[0]['Face']['BoundingBox'], img.size ) )"
   ]
  },
  {
   "cell_type": "code",
   "execution_count": null,
   "metadata": {},
   "outputs": [],
   "source": [
    "print( 'Similarity: {}'.format( faces[1]['Similarity'] ) )\n",
    "img = Image.open( 'coll_turma.jpg' )\n",
    "draw_bounding_box('coll_turma.jpg', create_bounding_box( faces[1]['Face']['BoundingBox'], img.size ) )"
   ]
  },
  {
   "cell_type": "markdown",
   "metadata": {},
   "source": [
    "# Text in Image client.detect_text()"
   ]
  },
  {
   "cell_type": "code",
   "execution_count": null,
   "metadata": {},
   "outputs": [],
   "source": [
    "Markdown(\"![](%s/dr_evil.jpg)\" % base_path)"
   ]
  },
  {
   "cell_type": "code",
   "execution_count": null,
   "metadata": {},
   "outputs": [],
   "source": [
    "response = client.detect_text(\n",
    "    Image={ 'Bytes': load_image( 'dr_evil.jpg') },\n",
    ")\n",
    "for i in response['TextDetections']:\n",
    "    print( 'Text[%s] Confidence[%f]' % (i['DetectedText'], i['Confidence']) )"
   ]
  },
  {
   "cell_type": "markdown",
   "metadata": {},
   "source": [
    "# Video Analysis"
   ]
  },
  {
   "cell_type": "markdown",
   "metadata": {},
   "source": [
    "Now, right click and 'Save link as' on the following link:\n",
    "<a href=\"star_wars.mp4\">Star Wars</a><br>\n",
    "Go to the Rekognition console and upload it to see the new Video Analysis functionality."
   ]
  },
  {
   "cell_type": "markdown",
   "metadata": {},
   "source": [
    "# The end :)"
   ]
  },
  {
   "cell_type": "code",
   "execution_count": null,
   "metadata": {
    "collapsed": true
   },
   "outputs": [],
   "source": [
    "Markdown(\"![](%s/the_end_thumb.jpg)\" % base_path)"
   ]
  }
 ],
 "metadata": {
  "kernelspec": {
   "display_name": "conda_python3",
   "language": "python",
   "name": "conda_python3"
  },
  "language_info": {
   "codemirror_mode": {
    "name": "ipython",
    "version": 3
   },
   "file_extension": ".py",
   "mimetype": "text/x-python",
   "name": "python",
   "nbconvert_exporter": "python",
   "pygments_lexer": "ipython3",
   "version": "3.6.2"
  }
 },
 "nbformat": 4,
 "nbformat_minor": 2
}
