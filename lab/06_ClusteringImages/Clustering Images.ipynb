{
 "cells": [
  {
   "cell_type": "markdown",
   "metadata": {},
   "source": [
    "### EXPERIMENTAL"
   ]
  },
  {
   "cell_type": "code",
   "execution_count": 1,
   "metadata": {
    "collapsed": true
   },
   "outputs": [],
   "source": [
    "base_dir='/tmp/clustering'\n",
    "dataset_dir='https://spock.cloud/ai-workshop/furniture'"
   ]
  },
  {
   "cell_type": "code",
   "execution_count": 2,
   "metadata": {
    "isConfigCell": true
   },
   "outputs": [
    {
     "name": "stderr",
     "output_type": "stream",
     "text": [
      "INFO:sagemaker:Created S3 bucket: sagemaker-us-east-1-715445047862\n"
     ]
    }
   ],
   "source": [
    "import sagemaker\n",
    "from sagemaker import get_execution_role\n",
    "\n",
    "role = get_execution_role()\n",
    "\n",
    "sagemaker_session = sagemaker.Session()\n",
    "bucket = sagemaker_session.default_bucket()"
   ]
  },
  {
   "cell_type": "code",
   "execution_count": 3,
   "metadata": {},
   "outputs": [
    {
     "name": "stdout",
     "output_type": "stream",
     "text": [
      "CPU times: user 0 ns, sys: 12 ms, total: 12 ms\n",
      "Wall time: 110 ms\n"
     ]
    }
   ],
   "source": [
    "%%time\n",
    "import os\n",
    "!mkdir -p $base_dir\n",
    "if not os.path.exists(base_dir + '/furniture.raw.json'):\n",
    "    !curl $dataset_dir/furniture.raw.json -o $base_dir/furniture.raw.json"
   ]
  },
  {
   "cell_type": "code",
   "execution_count": 4,
   "metadata": {
    "scrolled": true
   },
   "outputs": [
    {
     "data": {
      "text/html": [
       "<div>\n",
       "<style scoped>\n",
       "    .dataframe tbody tr th:only-of-type {\n",
       "        vertical-align: middle;\n",
       "    }\n",
       "\n",
       "    .dataframe tbody tr th {\n",
       "        vertical-align: top;\n",
       "    }\n",
       "\n",
       "    .dataframe thead th {\n",
       "        text-align: right;\n",
       "    }\n",
       "</style>\n",
       "<table border=\"1\" class=\"dataframe\">\n",
       "  <thead>\n",
       "    <tr style=\"text-align: right;\">\n",
       "      <th></th>\n",
       "      <th>id</th>\n",
       "      <th>raw_hash</th>\n",
       "      <th>image_path</th>\n",
       "    </tr>\n",
       "  </thead>\n",
       "  <tbody>\n",
       "    <tr>\n",
       "      <th>0</th>\n",
       "      <td>0</td>\n",
       "      <td>[0.6901253461837761, 0.564547598361969, 0.7025...</td>\n",
       "      <td>moveis/sofas/image_00000.jpg</td>\n",
       "    </tr>\n",
       "    <tr>\n",
       "      <th>1</th>\n",
       "      <td>1</td>\n",
       "      <td>[0.5431836843490601, 0.567444086074829, 0.7415...</td>\n",
       "      <td>moveis/sofas/image_00001.jpg</td>\n",
       "    </tr>\n",
       "    <tr>\n",
       "      <th>2</th>\n",
       "      <td>2</td>\n",
       "      <td>[0.647202372550964, 0.6822489500045771, 0.7340...</td>\n",
       "      <td>moveis/sofas/image_00002.jpg</td>\n",
       "    </tr>\n",
       "    <tr>\n",
       "      <th>3</th>\n",
       "      <td>3</td>\n",
       "      <td>[0.5275084972381591, 0.617555320262908, 0.6901...</td>\n",
       "      <td>moveis/sofas/image_00003.jpg</td>\n",
       "    </tr>\n",
       "    <tr>\n",
       "      <th>4</th>\n",
       "      <td>4</td>\n",
       "      <td>[0.5264348387718201, 0.5977515578269951, 0.604...</td>\n",
       "      <td>moveis/sofas/image_00004.jpg</td>\n",
       "    </tr>\n",
       "  </tbody>\n",
       "</table>\n",
       "</div>"
      ],
      "text/plain": [
       "   id                                           raw_hash  \\\n",
       "0   0  [0.6901253461837761, 0.564547598361969, 0.7025...   \n",
       "1   1  [0.5431836843490601, 0.567444086074829, 0.7415...   \n",
       "2   2  [0.647202372550964, 0.6822489500045771, 0.7340...   \n",
       "3   3  [0.5275084972381591, 0.617555320262908, 0.6901...   \n",
       "4   4  [0.5264348387718201, 0.5977515578269951, 0.604...   \n",
       "\n",
       "                     image_path  \n",
       "0  moveis/sofas/image_00000.jpg  \n",
       "1  moveis/sofas/image_00001.jpg  \n",
       "2  moveis/sofas/image_00002.jpg  \n",
       "3  moveis/sofas/image_00003.jpg  \n",
       "4  moveis/sofas/image_00004.jpg  "
      ]
     },
     "execution_count": 4,
     "metadata": {},
     "output_type": "execute_result"
    }
   ],
   "source": [
    "import pandas as pd\n",
    "import numpy as np\n",
    "\n",
    "dataset = pd.read_json(base_dir + '/furniture.raw.json')\n",
    "dataset[[ 'id', 'raw_hash', 'image_path']].head()"
   ]
  },
  {
   "cell_type": "code",
   "execution_count": 5,
   "metadata": {
    "collapsed": true
   },
   "outputs": [],
   "source": [
    "labels = dataset['id'].values.tolist()\n",
    "hashes = dataset['raw_hash'].values.tolist()\n",
    "images = dataset['image_path'].values.tolist()\n",
    "\n",
    "train_set = np.array(hashes, dtype='float32')\n",
    "labels_set = np.array(labels)"
   ]
  },
  {
   "cell_type": "code",
   "execution_count": 7,
   "metadata": {},
   "outputs": [
    {
     "name": "stdout",
     "output_type": "stream",
     "text": [
      "training data will be uploaded to: s3://sagemaker-us-east-1-715445047862/clustering/data\n",
      "training artifacts will be uploaded to: s3://sagemaker-us-east-1-715445047862/clustering/output\n"
     ]
    }
   ],
   "source": [
    "from sagemaker import KMeans\n",
    "\n",
    "data_location = 's3://{}/clustering/data'.format(bucket)\n",
    "output_location = 's3://{}/clustering/output'.format(bucket)\n",
    "\n",
    "print('training data will be uploaded to: {}'.format(data_location))\n",
    "print('training artifacts will be uploaded to: {}'.format(output_location))\n",
    "\n",
    "kmeans = KMeans(role=role,\n",
    "                train_instance_count=1,\n",
    "                train_instance_type='ml.c4.8xlarge',\n",
    "                output_path=output_location,\n",
    "                k=100,\n",
    "                data_location=data_location)"
   ]
  },
  {
   "cell_type": "code",
   "execution_count": 8,
   "metadata": {},
   "outputs": [
    {
     "name": "stderr",
     "output_type": "stream",
     "text": [
      "INFO:sagemaker:Creating training-job with name: kmeans-2018-06-05-22-39-56-119\n"
     ]
    },
    {
     "name": "stdout",
     "output_type": "stream",
     "text": [
      ".....................\n",
      "\u001b[31mDocker entrypoint called with argument(s): train\u001b[0m\n",
      "\u001b[31m[06/05/2018 22:43:14 INFO 140084259960640] Reading default configuration from /opt/amazon/lib/python2.7/site-packages/algorithm/default-input.json: {u'_tuning_objective_metric': u'', u'_num_gpus': u'auto', u'local_lloyd_num_trials': u'auto', u'_log_level': u'info', u'_kvstore': u'auto', u'local_lloyd_init_method': u'kmeans++', u'force_dense': u'true', u'epochs': u'1', u'init_method': u'random', u'local_lloyd_tol': u'0.0001', u'local_lloyd_max_iter': u'300', u'_disable_wait_to_read': u'false', u'extra_center_factor': u'auto', u'eval_metrics': u'[\"msd\"]', u'_num_kv_servers': u'1', u'mini_batch_size': u'5000', u'half_life_time_size': u'0', u'_num_slices': u'1'}\u001b[0m\n",
      "\u001b[31m[06/05/2018 22:43:14 INFO 140084259960640] Reading provided configuration from /opt/ml/input/config/hyperparameters.json: {u'feature_dim': u'2048', u'mini_batch_size': u'5000', u'k': u'100', u'force_dense': u'True'}\u001b[0m\n",
      "\u001b[31m[06/05/2018 22:43:14 INFO 140084259960640] Final configuration: {u'_tuning_objective_metric': u'', u'extra_center_factor': u'auto', u'local_lloyd_init_method': u'kmeans++', u'force_dense': u'True', u'epochs': u'1', u'feature_dim': u'2048', u'local_lloyd_tol': u'0.0001', u'_disable_wait_to_read': u'false', u'eval_metrics': u'[\"msd\"]', u'_num_kv_servers': u'1', u'mini_batch_size': u'5000', u'_num_gpus': u'auto', u'local_lloyd_num_trials': u'auto', u'_log_level': u'info', u'init_method': u'random', u'half_life_time_size': u'0', u'local_lloyd_max_iter': u'300', u'_kvstore': u'auto', u'k': u'100', u'_num_slices': u'1'}\u001b[0m\n",
      "\u001b[31m[06/05/2018 22:43:14 WARNING 140084259960640] Loggers have already been setup.\u001b[0m\n",
      "\u001b[31m[06/05/2018 22:43:14 INFO 140084259960640] Using default worker.\u001b[0m\n",
      "\u001b[31m[06/05/2018 22:43:14 INFO 140084259960640] Loaded iterator creator application/x-recordio-protobuf for content type ('application/x-recordio-protobuf', '1.0')\u001b[0m\n",
      "\u001b[31m[06/05/2018 22:43:14 INFO 140084259960640] Create Store: local\u001b[0m\n",
      "\u001b[31m[06/05/2018 22:43:14 INFO 140084259960640] nvidia-smi took: 0.0251741409302 secs to identify 0 gpus\u001b[0m\n",
      "\u001b[31m[06/05/2018 22:43:14 INFO 140084259960640] Number of GPUs being used: 0\u001b[0m\n",
      "\u001b[31m[06/05/2018 22:43:14 INFO 140084259960640] Setting up with params: {u'_tuning_objective_metric': u'', u'extra_center_factor': u'auto', u'local_lloyd_init_method': u'kmeans++', u'force_dense': u'True', u'epochs': u'1', u'feature_dim': u'2048', u'local_lloyd_tol': u'0.0001', u'_disable_wait_to_read': u'false', u'eval_metrics': u'[\"msd\"]', u'_num_kv_servers': u'1', u'mini_batch_size': u'5000', u'_num_gpus': u'auto', u'local_lloyd_num_trials': u'auto', u'_log_level': u'info', u'init_method': u'random', u'half_life_time_size': u'0', u'local_lloyd_max_iter': u'300', u'_kvstore': u'auto', u'k': u'100', u'_num_slices': u'1'}\u001b[0m\n",
      "\u001b[31m/opt/amazon/lib/python2.7/site-packages/ai_algorithms_sdk/config/config_helper.py:172: DeprecationWarning: deprecated\n",
      "  warnings.warn(\"deprecated\", DeprecationWarning)\u001b[0m\n",
      "\u001b[31m/opt/amazon/lib/python2.7/site-packages/ai_algorithms_sdk/config/config_helper.py:122: DeprecationWarning: deprecated\n",
      "  warnings.warn(\"deprecated\", DeprecationWarning)\u001b[0m\n",
      "\u001b[31m[06/05/2018 22:43:14 INFO 140084259960640] Number of GPUs being used: 0\u001b[0m\n",
      "\u001b[31m[06/05/2018 22:43:14 INFO 140084259960640] number of center slices 1\u001b[0m\n",
      "\u001b[31m#metrics {\"Metrics\": {\"Max Batches Seen Between Resets\": {\"count\": 1, \"max\": 1, \"sum\": 1.0, \"min\": 1}, \"Number of Batches Since Last Reset\": {\"count\": 1, \"max\": 1, \"sum\": 1.0, \"min\": 1}, \"Number of Records Since Last Reset\": {\"count\": 1, \"max\": 5000, \"sum\": 5000.0, \"min\": 5000}, \"Total Batches Seen\": {\"count\": 1, \"max\": 1, \"sum\": 1.0, \"min\": 1}, \"Total Records Seen\": {\"count\": 1, \"max\": 5000, \"sum\": 5000.0, \"min\": 5000}, \"Max Records Seen Between Resets\": {\"count\": 1, \"max\": 5000, \"sum\": 5000.0, \"min\": 5000}, \"Reset Count\": {\"count\": 1, \"max\": 0, \"sum\": 0.0, \"min\": 0}}, \"EndTime\": 1528238594.750535, \"Dimensions\": {\"Host\": \"algo-1\", \"Meta\": \"init_train_data_iter\", \"Operation\": \"training\", \"Algorithm\": \"AWS/KMeansWebscale\"}, \"StartTime\": 1528238594.750498}\n",
      "\u001b[0m\n",
      "\u001b[31m[06/05/2018 22:43:15 INFO 140084259960640] processed a total of 7874 examples\u001b[0m\n",
      "\u001b[31m[06/05/2018 22:43:15 INFO 140084259960640] #progress_metric: host=algo-1, completed 100 % of epochs\u001b[0m\n",
      "\u001b[31m#metrics {\"Metrics\": {\"Max Batches Seen Between Resets\": {\"count\": 1, \"max\": 2, \"sum\": 2.0, \"min\": 2}, \"Number of Batches Since Last Reset\": {\"count\": 1, \"max\": 2, \"sum\": 2.0, \"min\": 2}, \"Number of Records Since Last Reset\": {\"count\": 1, \"max\": 7874, \"sum\": 7874.0, \"min\": 7874}, \"Total Batches Seen\": {\"count\": 1, \"max\": 3, \"sum\": 3.0, \"min\": 3}, \"Total Records Seen\": {\"count\": 1, \"max\": 12874, \"sum\": 12874.0, \"min\": 12874}, \"Max Records Seen Between Resets\": {\"count\": 1, \"max\": 7874, \"sum\": 7874.0, \"min\": 7874}, \"Reset Count\": {\"count\": 1, \"max\": 1, \"sum\": 1.0, \"min\": 1}}, \"EndTime\": 1528238595.129509, \"Dimensions\": {\"Host\": \"algo-1\", \"Meta\": \"training_data_iter\", \"Operation\": \"training\", \"Algorithm\": \"AWS/KMeansWebscale\", \"epoch\": 0}, \"StartTime\": 1528238594.750774}\n",
      "\u001b[0m\n",
      "\u001b[31m[06/05/2018 22:43:15 INFO 140084259960640] #throughput_metric: host=algo-1, train throughput=20783.625363 records/second\u001b[0m\n",
      "\u001b[31m[06/05/2018 22:43:15 WARNING 140084259960640] wait_for_all_workers will not sync workers since the kv store is not running distributed\u001b[0m\n",
      "\u001b[31m[06/05/2018 22:43:15 INFO 140084259960640] shrinking 1000 centers into 100\u001b[0m\n",
      "\u001b[31m[06/05/2018 22:43:15 INFO 140084259960640] local kmeans attempt #0. Current mean square distance 5.257828\u001b[0m\n",
      "\u001b[31m[06/05/2018 22:43:15 INFO 140084259960640] local kmeans attempt #1. Current mean square distance 5.305346\u001b[0m\n",
      "\u001b[31m[06/05/2018 22:43:16 INFO 140084259960640] local kmeans attempt #2. Current mean square distance 5.283094\u001b[0m\n",
      "\u001b[31m[06/05/2018 22:43:16 INFO 140084259960640] local kmeans attempt #3. Current mean square distance 5.326686\u001b[0m\n",
      "\u001b[31m[06/05/2018 22:43:16 INFO 140084259960640] local kmeans attempt #4. Current mean square distance 5.303124\u001b[0m\n",
      "\u001b[31m[06/05/2018 22:43:16 INFO 140084259960640] local kmeans attempt #5. Current mean square distance 5.314271\u001b[0m\n",
      "\u001b[31m[06/05/2018 22:43:16 INFO 140084259960640] finished shrinking process. Mean Square Distance = 5\u001b[0m\n",
      "\u001b[31m[06/05/2018 22:43:16 INFO 140084259960640] #quality_metric: host=algo-1, train msd <loss>=5.25782775879\u001b[0m\n",
      "\u001b[31m[06/05/2018 22:43:16 INFO 140084259960640] batch data loading with context took: 39.2831%, (0.150870 secs)\u001b[0m\n",
      "\u001b[31m[06/05/2018 22:43:16 INFO 140084259960640] compute all data-center distances: inner product took: 16.3531%, (0.062805 secs)\u001b[0m\n",
      "\u001b[31m[06/05/2018 22:43:16 INFO 140084259960640] predict compute msd took: 12.7778%, (0.049074 secs)\u001b[0m\n",
      "\u001b[31m[06/05/2018 22:43:16 INFO 140084259960640] gradient: cluster center took: 10.8372%, (0.041621 secs)\u001b[0m\n",
      "\u001b[31m[06/05/2018 22:43:16 INFO 140084259960640] compute all data-center distances: point norm took: 8.9381%, (0.034327 secs)\u001b[0m\n",
      "\u001b[31m[06/05/2018 22:43:16 INFO 140084259960640] collect from kv store took: 3.4200%, (0.013135 secs)\u001b[0m\n",
      "\u001b[31m[06/05/2018 22:43:16 INFO 140084259960640] gradient: cluster size  took: 2.9108%, (0.011179 secs)\u001b[0m\n",
      "\u001b[31m[06/05/2018 22:43:16 INFO 140084259960640] splitting centers key-value pair took: 2.6290%, (0.010097 secs)\u001b[0m\n",
      "\u001b[31m[06/05/2018 22:43:16 INFO 140084259960640] gradient: one_hot took: 1.3930%, (0.005350 secs)\u001b[0m\n",
      "\u001b[31m[06/05/2018 22:43:16 INFO 140084259960640] compute all data-center distances: center norm took: 1.1007%, (0.004227 secs)\u001b[0m\n",
      "\u001b[31m[06/05/2018 22:43:16 INFO 140084259960640] update state and report convergance took: 0.2895%, (0.001112 secs)\u001b[0m\n",
      "\u001b[31m[06/05/2018 22:43:16 INFO 140084259960640] update set-up time took: 0.0498%, (0.000191 secs)\u001b[0m\n",
      "\u001b[31m[06/05/2018 22:43:16 INFO 140084259960640] predict minus dist took: 0.0179%, (0.000069 secs)\u001b[0m\n",
      "\u001b[31m[06/05/2018 22:43:16 INFO 140084259960640] TOTAL took: 0.38405752182\u001b[0m\n",
      "\u001b[31m[06/05/2018 22:43:16 INFO 140084259960640] Number of GPUs being used: 0\u001b[0m\n",
      "\u001b[31m#metrics {\"Metrics\": {\"finalize.time\": {\"count\": 1, \"max\": 1673.3660697937012, \"sum\": 1673.3660697937012, \"min\": 1673.3660697937012}, \"initialize.time\": {\"count\": 1, \"max\": 55.31501770019531, \"sum\": 55.31501770019531, \"min\": 55.31501770019531}, \"model.serialize.time\": {\"count\": 1, \"max\": 0.8420944213867188, \"sum\": 0.8420944213867188, \"min\": 0.8420944213867188}, \"update.time\": {\"count\": 1, \"max\": 378.53097915649414, \"sum\": 378.53097915649414, \"min\": 378.53097915649414}, \"epochs\": {\"count\": 1, \"max\": 1, \"sum\": 1.0, \"min\": 1}, \"state.serialize.time\": {\"count\": 1, \"max\": 5.861997604370117, \"sum\": 5.861997604370117, \"min\": 5.861997604370117}, \"_shrink.time\": {\"count\": 1, \"max\": 1669.273853302002, \"sum\": 1669.273853302002, \"min\": 1669.273853302002}}, \"EndTime\": 1528238596.810044, \"Dimensions\": {\"Host\": \"algo-1\", \"Operation\": \"training\", \"Algorithm\": \"AWS/KMeansWebscale\"}, \"StartTime\": 1528238594.621424}\n",
      "\u001b[0m\n",
      "\u001b[31m[06/05/2018 22:43:16 INFO 140084259960640] Test data is not provided.\u001b[0m\n",
      "\u001b[31m#metrics {\"Metrics\": {\"totaltime\": {\"count\": 1, \"max\": 2264.8589611053467, \"sum\": 2264.8589611053467, \"min\": 2264.8589611053467}, \"setuptime\": {\"count\": 1, \"max\": 20.094871520996094, \"sum\": 20.094871520996094, \"min\": 20.094871520996094}}, \"EndTime\": 1528238596.814264, \"Dimensions\": {\"Host\": \"algo-1\", \"Operation\": \"training\", \"Algorithm\": \"AWS/KMeansWebscale\"}, \"StartTime\": 1528238596.81017}\n",
      "\u001b[0m\n"
     ]
    },
    {
     "name": "stdout",
     "output_type": "stream",
     "text": [
      "===== Job Complete =====\n",
      "Billable seconds: 106\n",
      "CPU times: user 2.75 s, sys: 196 ms, total: 2.94 s\n",
      "Wall time: 3min 45s\n"
     ]
    }
   ],
   "source": [
    "%%time\n",
    "\n",
    "kmeans.fit(kmeans.record_set(train_set))"
   ]
  },
  {
   "cell_type": "code",
   "execution_count": 9,
   "metadata": {},
   "outputs": [
    {
     "name": "stderr",
     "output_type": "stream",
     "text": [
      "INFO:sagemaker:Creating model with name: kmeans-2018-06-05-22-43-38-477\n",
      "INFO:sagemaker:Creating endpoint with name kmeans-2018-06-05-22-39-56-119\n"
     ]
    },
    {
     "name": "stdout",
     "output_type": "stream",
     "text": [
      "--------------------------------------------------------------------------!CPU times: user 252 ms, sys: 20 ms, total: 272 ms\n",
      "Wall time: 6min 14s\n"
     ]
    }
   ],
   "source": [
    "%%time\n",
    "\n",
    "kmeans_predictor = kmeans.deploy(initial_instance_count=1,\n",
    "                                 instance_type='ml.m4.xlarge')"
   ]
  },
  {
   "cell_type": "code",
   "execution_count": 10,
   "metadata": {
    "collapsed": true
   },
   "outputs": [],
   "source": [
    "endpoint_name=kmeans_predictor.endpoint"
   ]
  },
  {
   "cell_type": "markdown",
   "metadata": {},
   "source": [
    "### Checking the endpont"
   ]
  },
  {
   "cell_type": "code",
   "execution_count": 11,
   "metadata": {},
   "outputs": [
    {
     "name": "stdout",
     "output_type": "stream",
     "text": [
      "[label {\n",
      "  key: \"closest_cluster\"\n",
      "  value {\n",
      "    float32_tensor {\n",
      "      values: 26.0\n",
      "    }\n",
      "  }\n",
      "}\n",
      "label {\n",
      "  key: \"distance_to_cluster\"\n",
      "  value {\n",
      "    float32_tensor {\n",
      "      values: 2.816901922225952\n",
      "    }\n",
      "  }\n",
      "}\n",
      "]\n",
      "CPU times: user 12 ms, sys: 0 ns, total: 12 ms\n",
      "Wall time: 355 ms\n"
     ]
    }
   ],
   "source": [
    "%%time\n",
    "result = kmeans_predictor.predict(np.array([ train_set[0] ], dtype='float32') )\n",
    "print(result)"
   ]
  },
  {
   "cell_type": "markdown",
   "metadata": {},
   "source": [
    "### Testing"
   ]
  },
  {
   "cell_type": "code",
   "execution_count": 12,
   "metadata": {},
   "outputs": [
    {
     "name": "stdout",
     "output_type": "stream",
     "text": [
      "  % Total    % Received % Xferd  Average Speed   Time    Time     Time  Current\n",
      "                                 Dload  Upload   Total   Spent    Left  Speed\n",
      "100  285M  100  285M    0     0  57.2M      0  0:00:04  0:00:04 --:--:-- 64.5M\n"
     ]
    }
   ],
   "source": [
    "!mkdir -p $base_dir/furniture\n",
    "!curl $dataset_dir/furniture.tar.gz | tar -xz -C $base_dir/furniture"
   ]
  },
  {
   "cell_type": "code",
   "execution_count": 38,
   "metadata": {
    "collapsed": true
   },
   "outputs": [],
   "source": [
    "import boto3\n",
    "import json\n",
    "from sagemaker.predictor import json_serializer, json_deserializer\n",
    "\n",
    "sm = boto3.client('sagemaker-runtime')    "
   ]
  },
  {
   "cell_type": "code",
   "execution_count": 68,
   "metadata": {
    "collapsed": true
   },
   "outputs": [],
   "source": [
    "def get_cluster(features):\n",
    "    result = sm.invoke_endpoint(\n",
    "        EndpointName=endpoint_name,\n",
    "        ContentType='application/json',\n",
    "        Body=json_serializer({\"instances\": [ {\"features\": i.tolist() } ] })\n",
    "    )\n",
    "    body = json.loads(result['Body'].read())\n",
    "    body = body['predictions'][0]\n",
    "    return int(body['closest_cluster']), body['distance_to_cluster']"
   ]
  },
  {
   "cell_type": "code",
   "execution_count": 73,
   "metadata": {},
   "outputs": [
    {
     "name": "stdout",
     "output_type": "stream",
     "text": [
      "CPU times: user 25.2 s, sys: 364 ms, total: 25.6 s\n",
      "Wall time: 2min 35s\n"
     ]
    }
   ],
   "source": [
    "%%time\n",
    "\n",
    "images_inside_clusters = {}\n",
    "for img_id,i in enumerate(train_set):\n",
    "    cluster_id, distance = get_cluster(i)\n",
    "    \n",
    "    if images_inside_clusters.get(cluster_id) is None:\n",
    "        images_inside_clusters[cluster_id] = []\n",
    "    images_inside_clusters[cluster_id].append( img_id )"
   ]
  },
  {
   "cell_type": "code",
   "execution_count": 83,
   "metadata": {
    "collapsed": true
   },
   "outputs": [],
   "source": [
    "!curl -s https://workshopml.spock.cloud/images/return.png -O"
   ]
  },
  {
   "cell_type": "code",
   "execution_count": 84,
   "metadata": {
    "collapsed": true
   },
   "outputs": [],
   "source": [
    "!curl -s https://workshopml.spock.cloud/js/tagcanvas.min.js -O"
   ]
  },
  {
   "cell_type": "code",
   "execution_count": 93,
   "metadata": {
    "collapsed": true
   },
   "outputs": [],
   "source": [
    "import base64\n",
    "from PIL import Image\n",
    "from io import BytesIO\n",
    "\n",
    "def get_image_base64(filename):\n",
    "    image = Image.open( filename )\n",
    "    image = image.convert(\"RGBA\")\n",
    "    newData = []\n",
    "    for item in image.getdata():\n",
    "        if item[0] >= 253 and item[1] >= 253 and item[2] >= 253:\n",
    "            newData.append((255, 255, 255, 0))\n",
    "        else:\n",
    "            newData.append(item)\n",
    "\n",
    "    image.putdata(newData)\n",
    "    \n",
    "    buffered = BytesIO()\n",
    "    image.save(buffered, format=\"PNG\")\n",
    "    return base64.b64encode(buffered.getvalue()).decode('ascii')\n",
    "    "
   ]
  },
  {
   "cell_type": "code",
   "execution_count": 86,
   "metadata": {
    "collapsed": true
   },
   "outputs": [],
   "source": [
    "import random\n",
    "from IPython.display import HTML, Javascript, display_javascript\n",
    "\n",
    "def load_cluster(cluster_id=None):\n",
    "    ids_images = []\n",
    "    clusters = []\n",
    "    furniture_links = \"\"\n",
    "    if cluster_id is None:\n",
    "        clusters = random.sample(range(0,100), 6)\n",
    "        ids_images = [images_inside_clusters[i][0] for i in clusters]   \n",
    "    else:\n",
    "        clusters = [cluster_id for i in range(10)]\n",
    "        random.shuffle(images_inside_clusters[cluster_id])\n",
    "        ids_images = [i for i in images_inside_clusters[cluster_id][0:10]]\n",
    "        furniture_links = '<li><a onclick=\"loadCluster()\" href=\"#\"><img width=\"10%\" height=\"10%\" src=\"return.png\"></img>RETURN</a></li>'\n",
    "    \n",
    "    for c,i in zip(clusters, ids_images):\n",
    "        furniture_links += '<li><a onclick=\"loadCluster({0})\" href=\"#\">'.format(c)\n",
    "        furniture_links += '<img width=\"30%\" height=\"30%\" src=\"data:image/png;base64,{0}\"></img>'.format(get_image_base64('/tmp/visual/furniture/%s'% images[i] ) )\n",
    "        furniture_links += 'Cluster: {0}</a></li>'.format(c)\n",
    "\n",
    "    return furniture_links"
   ]
  },
  {
   "cell_type": "code",
   "execution_count": 87,
   "metadata": {},
   "outputs": [
    {
     "data": {
      "text/html": [
       "\n",
       "<script type=\"text/javascript\" src=\"tagcanvas.min.js\"></script>\n",
       "\n",
       "<div id=\"myCanvasContainer\">\n",
       " <canvas width=\"600\" height=\"600\" id=\"myCanvas\">\n",
       "  <p>Anything in here will be replaced on browsers that support the canvas element</p>\n",
       "  <ul id='tags'></ul>\n",
       " </canvas>\n",
       "</div>\n",
       "\n",
       "<script type=\"text/javascript\">\n",
       "\n",
       "    function handle_output(out) {\n",
       "        console.log(out)\n",
       "        \n",
       "        document.getElementById('tags').innerHTML = out.content.data[\"text/plain\"];\n",
       "        \n",
       "        TagCanvas.Start('myCanvas', 'myCanvasContainer', {\n",
       "            textColour: '#000000',\n",
       "            outlineColour: '#ff00ff',\n",
       "            reverse: true,\n",
       "            depth: 0.8,\n",
       "            maxSpeed: 0.05,\n",
       "            imageMode: 'both',\n",
       "            imagePosition: 'bottom',\n",
       "            wheelZoom: false\n",
       "        });\n",
       "\n",
       "    }\n",
       "\n",
       "    function loadCluster(id) {\n",
       "        id = id == undefined ? \"\":id;\n",
       "        var kernel = IPython.notebook.kernel;\n",
       "        var callbacks = { 'iopub' : {'output' : handle_output}};\n",
       "        //console.log(id)\n",
       "        resp = kernel.execute(\"load_cluster(\" + id + \")\", callbacks, {silent:false});\n",
       "    }\n",
       "</script>\n",
       "\n"
      ],
      "text/plain": [
       "<IPython.core.display.HTML object>"
      ]
     },
     "execution_count": 87,
     "metadata": {},
     "output_type": "execute_result"
    }
   ],
   "source": [
    "HTML('''\n",
    "<script type=\"text/javascript\" src=\"tagcanvas.min.js\"></script>\n",
    "\n",
    "<div id=\"myCanvasContainer\">\n",
    " <canvas width=\"600\" height=\"600\" id=\"myCanvas\">\n",
    "  <p>Anything in here will be replaced on browsers that support the canvas element</p>\n",
    "  <ul id='tags'></ul>\n",
    " </canvas>\n",
    "</div>\n",
    "\n",
    "<script type=\"text/javascript\">\n",
    "\n",
    "    function handle_output(out) {\n",
    "        console.log(out)\n",
    "        \n",
    "        document.getElementById('tags').innerHTML = out.content.data[\"text/plain\"];\n",
    "        \n",
    "        TagCanvas.Start('myCanvas', 'myCanvasContainer', {\n",
    "            textColour: '#000000',\n",
    "            outlineColour: '#ff00ff',\n",
    "            reverse: true,\n",
    "            depth: 0.8,\n",
    "            maxSpeed: 0.05,\n",
    "            imageMode: 'both',\n",
    "            imagePosition: 'bottom',\n",
    "            wheelZoom: false\n",
    "        });\n",
    "\n",
    "    }\n",
    "\n",
    "    function loadCluster(id) {\n",
    "        id = id == undefined ? \"\":id;\n",
    "        var kernel = IPython.notebook.kernel;\n",
    "        var callbacks = { 'iopub' : {'output' : handle_output}};\n",
    "        //console.log(id)\n",
    "        resp = kernel.execute(\"load_cluster(\" + id + \")\", callbacks, {silent:false});\n",
    "    }\n",
    "</script>\n",
    "\n",
    "''')"
   ]
  },
  {
   "cell_type": "code",
   "execution_count": 94,
   "metadata": {},
   "outputs": [
    {
     "data": {
      "application/javascript": [
       "loadCluster();"
      ]
     },
     "metadata": {},
     "output_type": "display_data"
    }
   ],
   "source": [
    "jso = Javascript(\"loadCluster();\")\n",
    "display_javascript(jso)"
   ]
  },
  {
   "cell_type": "markdown",
   "metadata": {},
   "source": [
    "### Delete the endpoint"
   ]
  },
  {
   "cell_type": "code",
   "execution_count": null,
   "metadata": {
    "collapsed": true
   },
   "outputs": [],
   "source": [
    "import sagemaker\n",
    "sagemaker.Session().delete_endpoint(kmeans_predictor.endpoint)"
   ]
  }
 ],
 "metadata": {
  "kernelspec": {
   "display_name": "conda_python3",
   "language": "python",
   "name": "conda_python3"
  },
  "language_info": {
   "codemirror_mode": {
    "name": "ipython",
    "version": 3
   },
   "file_extension": ".py",
   "mimetype": "text/x-python",
   "name": "python",
   "nbconvert_exporter": "python",
   "pygments_lexer": "ipython3",
   "version": "3.6.3"
  },
  "notice": "Copyright 2017 Amazon.com, Inc. or its affiliates. All Rights Reserved.  Licensed under the Apache License, Version 2.0 (the \"License\"). You may not use this file except in compliance with the License. A copy of the License is located at http://aws.amazon.com/apache2.0/ or in the \"license\" file accompanying this file. This file is distributed on an \"AS IS\" BASIS, WITHOUT WARRANTIES OR CONDITIONS OF ANY KIND, either express or implied. See the License for the specific language governing permissions and limitations under the License."
 },
 "nbformat": 4,
 "nbformat_minor": 2
}
